{
  "nbformat": 4,
  "nbformat_minor": 0,
  "metadata": {
    "colab": {
      "private_outputs": true,
      "provenance": [],
      "collapsed_sections": [
        "vncDsAP0Gaoa",
        "beRrZCGUAJYm",
        "FJNUwmbgGyua",
        "yQaldy8SH6Dl",
        "mDgbUHAGgjLW",
        "HhfV-JJviCcP",
        "Y3lxredqlCYt",
        "3RnN4peoiCZX",
        "x71ZqKXriCWQ",
        "7hBIi_osiCS2",
        "JlHwYmJAmNHm",
        "35m5QtbWiB9F",
        "PoPl-ycgm1ru",
        "H0kj-8xxnORC",
        "nA9Y7ga8ng1Z",
        "PBTbrJXOngz2",
        "u3PMJOP6ngxN",
        "dauF4eBmngu3",
        "bKJF3rekwFvQ",
        "MSa1f5Uengrz",
        "0wOQAZs5pc--",
        "K5QZ13OEpz2H",
        "lQ7QKXXCp7Bj",
        "448CDAPjqfQr",
        "KSlN3yHqYklG",
        "t6dVpIINYklI",
        "ijmpgYnKYklI",
        "-JiQyfWJYklI",
        "EM7whBJCYoAo",
        "fge-S5ZAYoAp",
        "85gYPyotYoAp",
        "RoGjAbkUYoAp",
        "4Of9eVA-YrdM",
        "iky9q4vBYrdO",
        "F6T5p64dYrdO",
        "y-Ehk30pYrdP",
        "bamQiAODYuh1",
        "QHF8YVU7Yuh3",
        "GwzvFGzlYuh3",
        "qYpmQ266Yuh3",
        "OH-pJp9IphqM",
        "bbFf2-_FphqN",
        "_ouA3fa0phqN",
        "Seke61FWphqN",
        "PIIx-8_IphqN",
        "t27r6nlMphqO",
        "r2jJGEOYphqO",
        "b0JNsNcRphqO",
        "BZR9WyysphqO",
        "jj7wYXLtphqO",
        "eZrbJ2SmphqO",
        "rFu4xreNphqO",
        "YJ55k-q6phqO",
        "gCFgpxoyphqP",
        "OVtJsKN_phqQ",
        "lssrdh5qphqQ",
        "U2RJ9gkRphqQ",
        "1M8mcRywphqQ",
        "tgIPom80phqQ",
        "JMzcOPDDphqR",
        "x-EpHcCOp1ci",
        "X_VqEhTip1ck",
        "8zGJKyg5p1ck",
        "PVzmfK_Ep1ck",
        "n3dbpmDWp1ck",
        "ylSl6qgtp1ck",
        "ZWILFDl5p1ck",
        "M7G43BXep1ck",
        "Ag9LCva-p1cl",
        "E6MkPsBcp1cl",
        "3MPXvC8up1cl",
        "NC_X3p0fY2L0",
        "UV0SzAkaZNRQ",
        "YPEH6qLeZNRQ",
        "q29F0dvdveiT",
        "EXh0U9oCveiU",
        "22aHeOlLveiV",
        "g-ATYxFrGrvw",
        "Yfr_Vlr8HBkt",
        "8yEUt7NnHlrM",
        "tEA2Xm5dHt1r",
        "I79__PHVH19G",
        "Ou-I18pAyIpj",
        "fF3858GYyt-u",
        "4_0_7-oCpUZd",
        "hwyV_J3ipUZe",
        "3yB-zSqbpUZe",
        "dEUvejAfpUZe",
        "Fd15vwWVpUZf",
        "nswIvDneO7qN",
        "Nff-vKELpZyI",
        "kLW572S8pZyI",
        "dWbDXHzopZyI",
        "yLjJCtPM0KBk",
        "xiyOF9F70UgQ",
        "7wuGOrhz0itI",
        "id1riN9m0vUs",
        "89xtkJwZ18nB",
        "Iwf50b-R2tYG",
        "GMQiZwjn3iu7",
        "WVIkgGqN3qsr",
        "XkPnILGE3zoT",
        "Hlsf0x5436Go",
        "mT9DMSJo4nBL",
        "c49ITxTc407N",
        "OeJFEK0N496M",
        "9ExmJH0g5HBk",
        "cJNqERVU536h",
        "k5UmGsbsOxih",
        "T0VqWOYE6DLQ",
        "qBMux9mC6MCf",
        "-oLEiFgy-5Pf",
        "C74aWNz2AliB",
        "2DejudWSA-a0",
        "pEMng2IbBLp7",
        "rAdphbQ9Bhjc",
        "TNVZ9zx19K6k",
        "nqoHp30x9hH9",
        "rMDnDkt2B6du",
        "yiiVWRdJDDil",
        "1UUpS68QDMuG",
        "kexQrXU-DjzY",
        "T5CmagL3EC8N",
        "BhH2vgX9EjGr",
        "qjKvONjwE8ra",
        "P1XJ9OREExlT",
        "VFOzZv6IFROw",
        "TIqpNgepFxVj",
        "WQjHU5G5C0Qe",
        "OB4l2ZhMeS1U",
        "ArJBuiUVfxKd",
        "PiV4Ypx8fxKe",
        "TfvqoZmBfxKf",
        "5KFHrGrB-TB9",
        "A7d026J9EtOj",
        "dJ2tPlVmpsJ0",
        "JWYfwnehpsJ1",
        "-jK_YjpMpsJ2",
        "zVGeBEFhpsJ2",
        "bmKjuQ-FpsJ3",
        "Fze-IPXLpx6K",
        "7AN1z2sKpx6M",
        "9PIHJqyupx6M",
        "_-qAgymDpx6N",
        "Z-hykwinpx6N",
        "P9KF4aj9m5N4",
        "bj-bhCappvFx",
        "Z_g3RR7uvcK6",
        "h_CCil-SKHpo",
        "cBFFvTBNJzUa",
        "HvGl1hHyA_VK",
        "EyNgTHvd2WFk",
        "KH5McJBi2d8v",
        "iW_Lq9qf2h6X",
        "-Kee-DAl2viO",
        "gCX9965dhzqZ"
      ],
      "include_colab_link": true
    },
    "kernelspec": {
      "name": "python3",
      "display_name": "Python 3"
    },
    "language_info": {
      "name": "python"
    },
    "gpuClass": "standard"
  },
  "cells": [
    {
      "cell_type": "markdown",
      "metadata": {
        "id": "view-in-github",
        "colab_type": "text"
      },
      "source": [
        "<a href=\"https://colab.research.google.com/github/MandarPateOP/EDA-Global-Terrorism-Analysis/blob/main/Copy_of_Bike_Sharing_Demand_Prediction_.ipynb\" target=\"_parent\"><img src=\"https://colab.research.google.com/assets/colab-badge.svg\" alt=\"Open In Colab\"/></a>"
      ]
    },
    {
      "cell_type": "markdown",
      "source": [
        "### **Project Name**    - Bike Sharing Demand Prediction\n",
        "\n"
      ],
      "metadata": {
        "id": "vncDsAP0Gaoa"
      }
    },
    {
      "cell_type": "markdown",
      "source": [
        "##### **Project Type**    - Regression\n",
        "##### **Contribution**    - Individual\n"
      ],
      "metadata": {
        "id": "beRrZCGUAJYm"
      }
    },
    {
      "cell_type": "markdown",
      "source": [
        "# **Project Summary -**"
      ],
      "metadata": {
        "id": "FJNUwmbgGyua"
      }
    },
    {
      "cell_type": "markdown",
      "source": [
        "Currently Rental bikes are introduced in many urban cities for the enhancement of mobility comfort. It is important to make the rental bike available and accessible to the public at the right time as it lessens the waiting time. Eventually, providing the city with a stable supply of rental bikes becomes a major concern. The crucial part is the prediction of bike count required at each hour for the stable supply of rental bikes."
      ],
      "metadata": {
        "id": "F6v_1wHtG2nS"
      }
    },
    {
      "cell_type": "markdown",
      "source": [
        "# **GitHub Link -**"
      ],
      "metadata": {
        "id": "w6K7xa23Elo4"
      }
    },
    {
      "cell_type": "markdown",
      "source": [
        "https://github.com/MandarPateOP/Bike-Sharing-Demand-Prediction-Regression-"
      ],
      "metadata": {
        "id": "h1o69JH3Eqqn"
      }
    },
    {
      "cell_type": "markdown",
      "source": [
        "# **Problem Statement**\n"
      ],
      "metadata": {
        "id": "yQaldy8SH6Dl"
      }
    },
    {
      "cell_type": "markdown",
      "source": [
        "**BUSINESS PROBLEM OVERVIEW** \n",
        "\n",
        "Currently Rental bikes are introduced in many urban cities for the enhancement of mobility comfort. It is important to make the rental bike available and accessible to the public at the right time as it lessens the waiting time. Eventually, providing the city with a stable supply of rental bikes becomes a major concern. The crucial part is the prediction of bike count required at each hour for the stable supply of rental bikes."
      ],
      "metadata": {
        "id": "DpeJGUA3kjGy"
      }
    },
    {
      "cell_type": "markdown",
      "source": [
        "# **General Guidelines** : -  "
      ],
      "metadata": {
        "id": "mDgbUHAGgjLW"
      }
    },
    {
      "cell_type": "markdown",
      "source": [
        "1.   Well-structured, formatted, and commented code is required. \n",
        "2.   Exception Handling, Production Grade Code & Deployment Ready Code will be a plus. Those students will be awarded some additional credits. \n",
        "     \n",
        "     The additional credits will have advantages over other students during Star Student selection.\n",
        "       \n",
        "             [ Note: - Deployment Ready Code is defined as, the whole .ipynb notebook should be executable in one go\n",
        "                       without a single error logged. ]\n",
        "\n",
        "3.   Each and every logic should have proper comments.\n",
        "4. You may add as many number of charts you want. Make Sure for each and every chart the following format should be answered.\n",
        "        \n",
        "\n",
        "```\n",
        "# Chart visualization code\n",
        "```\n",
        "            \n",
        "\n",
        "*   Why did you pick the specific chart?\n",
        "*   What is/are the insight(s) found from the chart?\n",
        "* Will the gained insights help creating a positive business impact? \n",
        "Are there any insights that lead to negative growth? Justify with specific reason.\n",
        "\n",
        "5. You have to create at least 15 logical & meaningful charts having important insights.\n",
        "\n",
        "\n",
        "[ Hints : - Do the Vizualization in  a structured way while following \"UBM\" Rule. \n",
        "\n",
        "U - Univariate Analysis,\n",
        "\n",
        "B - Bivariate Analysis (Numerical - Categorical, Numerical - Numerical, Categorical - Categorical)\n",
        "\n",
        "M - Multivariate Analysis\n",
        " ]\n",
        "\n",
        "\n",
        "\n",
        "\n",
        "\n",
        "6. You may add more ml algorithms for model creation. Make sure for each and every algorithm, the following format should be answered.\n",
        "\n",
        "\n",
        "*   Explain the ML Model used and it's performance using Evaluation metric Score Chart.\n",
        "\n",
        "\n",
        "*   Cross- Validation & Hyperparameter Tuning\n",
        "\n",
        "*   Have you seen any improvement? Note down the improvement with updates Evaluation metric Score Chart.\n",
        "\n",
        "*   Explain each evaluation metric's indication towards business and the business impact pf the ML model used.\n",
        "\n",
        "\n",
        "\n",
        "\n",
        "\n",
        "\n",
        "\n",
        "\n",
        "\n",
        "\n",
        "\n",
        "\n",
        "\n",
        "\n",
        "\n",
        "\n",
        "\n",
        "\n"
      ],
      "metadata": {
        "id": "ZrxVaUj-hHfC"
      }
    },
    {
      "cell_type": "markdown",
      "source": [
        "# ***Let's Begin !***"
      ],
      "metadata": {
        "id": "O_i_v8NEhb9l"
      }
    },
    {
      "cell_type": "markdown",
      "source": [
        "## ***1. Know Your Data***"
      ],
      "metadata": {
        "id": "HhfV-JJviCcP"
      }
    },
    {
      "cell_type": "markdown",
      "source": [
        "### Import Libraries"
      ],
      "metadata": {
        "id": "Y3lxredqlCYt"
      }
    },
    {
      "cell_type": "code",
      "source": [
        "# Import Libraries\n",
        "import numpy as np\n",
        "import pandas as pd\n",
        "import matplotlib.pyplot as plt\n",
        "import seaborn as sns\n",
        "import datetime as datetime\n",
        "from google.colab import drive\n",
        "drive.mount('/content/drive')\n",
        "\n",
        "#Warnings \n",
        "import warnings\n",
        "warnings.filterwarnings('ignore')\n",
        "warnings.filterwarnings('always')\n",
        "\n",
        "#Cross validation\n",
        "from sklearn.model_selection import cross_val_score\n",
        "from sklearn.experimental import enable_halving_search_cv\n",
        "from sklearn.model_selection import HalvingRandomSearchCV\n",
        "from sklearn.model_selection import RandomizedSearchCV\n",
        "from sklearn.model_selection import GridSearchCV\n",
        "\n",
        "\n",
        "#Scoring Metrics\n",
        "from sklearn.metrics import mean_absolute_error, mean_squared_error, r2_score\n",
        "\n",
        "#Importing ML Models\n",
        "from sklearn.linear_model import LinearRegression\n",
        "from sklearn.linear_model import Lasso\n",
        "from sklearn.linear_model import Ridge\n",
        "from sklearn.tree import DecisionTreeRegressor\n",
        "from sklearn.ensemble import RandomForestRegressor\n",
        "from xgboost import XGBRegressor\n",
        "from sklearn.ensemble import GradientBoostingRegressor\n",
        "\n",
        "# Ignore Warnings during fitting\n",
        "from warnings import simplefilter\n",
        "simplefilter(action='ignore', category=FutureWarning)\n",
        "from sklearn.exceptions import DataConversionWarning\n",
        "warnings.filterwarnings(action='ignore', category=DataConversionWarning)\n",
        "import warnings\n",
        "warnings.filterwarnings(\"ignore\", category=DeprecationWarning)\n",
        "\n"
      ],
      "metadata": {
        "id": "M8Vqi-pPk-HR"
      },
      "execution_count": null,
      "outputs": []
    },
    {
      "cell_type": "markdown",
      "source": [
        "### Dataset Loading"
      ],
      "metadata": {
        "id": "3RnN4peoiCZX"
      }
    },
    {
      "cell_type": "code",
      "source": [
        "# Load Dataset\n",
        "df=pd.read_csv('/content/drive/My Drive/Capstone project 2- Bike Sharing Demand Prediction/SeoulBikeData.csv',encoding = \"ISO-8859-1\",parse_dates=True)\n"
      ],
      "metadata": {
        "id": "4CkvbW_SlZ_R"
      },
      "execution_count": null,
      "outputs": []
    },
    {
      "cell_type": "markdown",
      "source": [
        "### Dataset First View"
      ],
      "metadata": {
        "id": "x71ZqKXriCWQ"
      }
    },
    {
      "cell_type": "code",
      "source": [
        "# Dataset First Look\n",
        "df.head()"
      ],
      "metadata": {
        "id": "LWNFOSvLl09H"
      },
      "execution_count": null,
      "outputs": []
    },
    {
      "cell_type": "markdown",
      "source": [
        "### Dataset Rows & Columns count"
      ],
      "metadata": {
        "id": "7hBIi_osiCS2"
      }
    },
    {
      "cell_type": "code",
      "source": [
        "# Dataset Rows & Columns count\n",
        "df.shape"
      ],
      "metadata": {
        "id": "Kllu7SJgmLij"
      },
      "execution_count": null,
      "outputs": []
    },
    {
      "cell_type": "markdown",
      "source": [
        "### Dataset Information"
      ],
      "metadata": {
        "id": "JlHwYmJAmNHm"
      }
    },
    {
      "cell_type": "code",
      "source": [
        "# Dataset Info\n",
        "df.info()"
      ],
      "metadata": {
        "id": "e9hRXRi6meOf"
      },
      "execution_count": null,
      "outputs": []
    },
    {
      "cell_type": "markdown",
      "source": [
        "#### Duplicate Values"
      ],
      "metadata": {
        "id": "35m5QtbWiB9F"
      }
    },
    {
      "cell_type": "code",
      "source": [
        "# Dataset Duplicate Value Count\n",
        "df.duplicated().sum()"
      ],
      "metadata": {
        "id": "1sLdpKYkmox0"
      },
      "execution_count": null,
      "outputs": []
    },
    {
      "cell_type": "markdown",
      "source": [
        "#### Missing Values/Null Values"
      ],
      "metadata": {
        "id": "PoPl-ycgm1ru"
      }
    },
    {
      "cell_type": "code",
      "source": [
        "# Missing Values/Null Values Count\n",
        "df.isnull().sum()"
      ],
      "metadata": {
        "id": "GgHWkxvamxVg"
      },
      "execution_count": null,
      "outputs": []
    },
    {
      "cell_type": "code",
      "source": [
        "# Visualizing the missing values\n",
        "plt.figure(figsize=(10,6))\n",
        "sns.displot(\n",
        "    data=df.isna().melt(value_name=\"missing\"),\n",
        "    y=\"variable\",\n",
        "    hue=\"missing\",\n",
        "    multiple=\"fill\",\n",
        "    aspect=1.25\n",
        ")"
      ],
      "metadata": {
        "id": "3q5wnI3om9sJ"
      },
      "execution_count": null,
      "outputs": []
    },
    {
      "cell_type": "markdown",
      "source": [
        "### What did you know about your dataset?"
      ],
      "metadata": {
        "id": "H0kj-8xxnORC"
      }
    },
    {
      "cell_type": "markdown",
      "source": [
        "\n",
        "1) Dataset has 14 columns and 8760 rows\n",
        "\n",
        "2) No missing or Null values found in dataset hence it is already Cleaned!\n",
        "\n"
      ],
      "metadata": {
        "id": "gfoNAAC-nUe_"
      }
    },
    {
      "cell_type": "markdown",
      "source": [
        "## ***2. Understanding Your Variables***"
      ],
      "metadata": {
        "id": "nA9Y7ga8ng1Z"
      }
    },
    {
      "cell_type": "code",
      "source": [
        "# Dataset Columns\n",
        "list(df.columns)"
      ],
      "metadata": {
        "id": "j7xfkqrt5Ag5"
      },
      "execution_count": null,
      "outputs": []
    },
    {
      "cell_type": "code",
      "source": [
        "# Dataset Describe\n",
        "df.describe()"
      ],
      "metadata": {
        "id": "DnOaZdaE5Q5t"
      },
      "execution_count": null,
      "outputs": []
    },
    {
      "cell_type": "markdown",
      "source": [
        "### Variables Description "
      ],
      "metadata": {
        "id": "PBTbrJXOngz2"
      }
    },
    {
      "cell_type": "markdown",
      "source": [
        "**Date** - Year-Month-Day\n",
        "\n",
        "**Rented Bike count** - Count of bikes rented at each hour\n",
        "\n",
        "**Hour** - Hour of the day\n",
        "\n",
        "**Temperature**-Temperature in Celsius\n",
        "\n",
        "**Humidity** - Humidity in %\n",
        "\n",
        "**Windspeed** - Windspeed in m/s\n",
        "\n",
        "**Visibility** - Visibility in meters\n",
        "\n",
        "**Dew point temperature** - Temperature in Celsius\n",
        "\n",
        "**Solar radiation** - Solar Radiation MJ/m2\n",
        "\n",
        "**Rainfall** - Rainfall in mm\n",
        "\n",
        "**Snowfall** - Snowfall in cm\n",
        "\n",
        "**Seasons** - Winter, Spring, Summer, Autumn\n",
        "\n",
        "**Holiday** - Holiday/No holiday\n",
        "\n",
        "**Functional Day** - NoFunc(Non Functional Hours), Fun(Functional hours)"
      ],
      "metadata": {
        "id": "aJV4KIxSnxay"
      }
    },
    {
      "cell_type": "markdown",
      "source": [
        "### Check Unique Values for each variable."
      ],
      "metadata": {
        "id": "u3PMJOP6ngxN"
      }
    },
    {
      "cell_type": "code",
      "source": [
        "# Check Unique Values for each variable.\n",
        "\n",
        "#Checking Unique values for Numerical columns\n",
        "num_cols = df.select_dtypes(include='number')\n",
        "for col in num_cols:\n",
        "    print(f\"{col} has '{num_cols[col].nunique()}' unique values\")\n",
        "\n",
        "#Checking Unique values for Categorical columns\n",
        "cat_cols = df.select_dtypes(exclude='number')\n",
        "for col in cat_cols:\n",
        "    print(f\"{col} has '{cat_cols[col].nunique()}' unique values\")\n",
        "\n"
      ],
      "metadata": {
        "id": "zms12Yq5n-jE"
      },
      "execution_count": null,
      "outputs": []
    },
    {
      "cell_type": "markdown",
      "source": [
        "## 3. ***Data Wrangling***"
      ],
      "metadata": {
        "id": "dauF4eBmngu3"
      }
    },
    {
      "cell_type": "markdown",
      "source": [
        "### Data Wrangling Code"
      ],
      "metadata": {
        "id": "bKJF3rekwFvQ"
      }
    },
    {
      "cell_type": "code",
      "source": [
        "# Write your code to make your dataset analysis ready.\n",
        "df['Date']=pd.to_datetime(df['Date'])\n",
        "df.info()"
      ],
      "metadata": {
        "id": "wk-9a2fpoLcV"
      },
      "execution_count": null,
      "outputs": []
    },
    {
      "cell_type": "code",
      "source": [
        "df['Date'][0] #Succesfully converted into datetime format"
      ],
      "metadata": {
        "id": "v8anjCE6-PFe"
      },
      "execution_count": null,
      "outputs": []
    },
    {
      "cell_type": "code",
      "source": [
        "#Year we are not Considering , that wont matter in Regression problem\n",
        "df['month'] = pd.DatetimeIndex(df['Date']).month\n",
        "df['weekday'] = pd.DatetimeIndex(df['Date']).weekday\n",
        "df['weekdays_weekend']=df['weekday'].apply(lambda x : 1 if x>=6  else 0 )\n",
        "df['timeshift'] = df['Hour'].apply(lambda x: 'night' if 0<=x<=6 else ('day' if 7<=x<=16 else 'evening'))\n",
        "\n",
        "df.sample(5)"
      ],
      "metadata": {
        "id": "yBQZ10KH-jtP"
      },
      "execution_count": null,
      "outputs": []
    },
    {
      "cell_type": "code",
      "source": [
        "df=df.drop(columns=['Date','weekday'],axis=1)\n",
        "df.head()"
      ],
      "metadata": {
        "id": "kF616bBhP-Ka"
      },
      "execution_count": null,
      "outputs": []
    },
    {
      "cell_type": "markdown",
      "source": [
        "### What all manipulations have you done and insights you found?"
      ],
      "metadata": {
        "id": "MSa1f5Uengrz"
      }
    },
    {
      "cell_type": "markdown",
      "source": [
        "Converted **'Date'** feature to datetime so i can fetch month , year , and whether it is weekend or weekday from it because it should have affected our count of bikes needed daily , other than that no need of Date feature.\n",
        "\n",
        "From **'Hour'** feature we made new categorical column i.e. **'Timeshift'**"
      ],
      "metadata": {
        "id": "LbyXE7I1olp8"
      }
    },
    {
      "cell_type": "markdown",
      "source": [
        "## ***4. Data Vizualization, Storytelling & Experimenting with charts : Understand the relationships between variables***"
      ],
      "metadata": {
        "id": "GF8Ens_Soomf"
      }
    },
    {
      "cell_type": "markdown",
      "source": [
        "#### Chart - 1(Seasons v/s Rented Bike Count)"
      ],
      "metadata": {
        "id": "0wOQAZs5pc--"
      }
    },
    {
      "cell_type": "code",
      "source": [
        "# Chart - 1 visualization code\n",
        "\n",
        "seasons_group = df.groupby('Seasons')['Rented Bike Count'].sum()\n",
        "seasons_group.sort_values(ascending=False).plot(kind='bar',xlabel = 'Seasons', ylabel = 'Rented Bike Count')\n",
        "plt.show()"
      ],
      "metadata": {
        "id": "7v_ESjsspbW7"
      },
      "execution_count": null,
      "outputs": []
    },
    {
      "cell_type": "markdown",
      "source": [
        "##### 1. Why did you pick the specific chart?"
      ],
      "metadata": {
        "id": "K5QZ13OEpz2H"
      }
    },
    {
      "cell_type": "markdown",
      "source": [
        "To find out in which Season how many bike are rented "
      ],
      "metadata": {
        "id": "XESiWehPqBRc"
      }
    },
    {
      "cell_type": "markdown",
      "source": [
        "##### 2. What is/are the insight(s) found from the chart?"
      ],
      "metadata": {
        "id": "lQ7QKXXCp7Bj"
      }
    },
    {
      "cell_type": "markdown",
      "source": [
        "Summer has the rented highest number of Bikes while Winter has the lowest"
      ],
      "metadata": {
        "id": "C_j1G7yiqdRP"
      }
    },
    {
      "cell_type": "markdown",
      "source": [
        "##### 3. Will the gained insights help creating a positive business impact? \n",
        "Are there any insights that lead to negative growth? Justify with specific reason."
      ],
      "metadata": {
        "id": "448CDAPjqfQr"
      }
    },
    {
      "cell_type": "markdown",
      "source": [
        "Answer Here"
      ],
      "metadata": {
        "id": "3cspy4FjqxJW"
      }
    },
    {
      "cell_type": "markdown",
      "source": [
        "#### Chart - 2(Holiday & No Holiday bike count comparison)"
      ],
      "metadata": {
        "id": "KSlN3yHqYklG"
      }
    },
    {
      "cell_type": "code",
      "source": [
        "# Chart - 2 visualization code\n",
        "\n",
        "holiday_group = df.groupby('Holiday')['Rented Bike Count'].sum()\n",
        "holiday_group.plot(kind='pie', autopct='%1.1f%%')\n",
        "plt.show()"
      ],
      "metadata": {
        "id": "R4YgtaqtYklH"
      },
      "execution_count": null,
      "outputs": []
    },
    {
      "cell_type": "markdown",
      "source": [
        "##### 1. Why did you pick the specific chart?"
      ],
      "metadata": {
        "id": "t6dVpIINYklI"
      }
    },
    {
      "cell_type": "markdown",
      "source": [
        "to check the distribution of rented bikes on Holiday and Non Holiday day"
      ],
      "metadata": {
        "id": "5aaW0BYyYklI"
      }
    },
    {
      "cell_type": "markdown",
      "source": [
        "##### 2. What is/are the insight(s) found from the chart?"
      ],
      "metadata": {
        "id": "ijmpgYnKYklI"
      }
    },
    {
      "cell_type": "markdown",
      "source": [
        "Almost all of the rented bikes are counted on No holiday day"
      ],
      "metadata": {
        "id": "PSx9atu2YklI"
      }
    },
    {
      "cell_type": "markdown",
      "source": [
        "##### 3. Will the gained insights help creating a positive business impact? \n",
        "Are there any insights that lead to negative growth? Justify with specific reason."
      ],
      "metadata": {
        "id": "-JiQyfWJYklI"
      }
    },
    {
      "cell_type": "markdown",
      "source": [
        "heatmap helps to find only correlation between features using that we can avoid number of dimensions in dataset "
      ],
      "metadata": {
        "id": "BcBbebzrYklV"
      }
    },
    {
      "cell_type": "markdown",
      "source": [
        "#### Chart - 3(Timeshift v/s Rented Bike count)"
      ],
      "metadata": {
        "id": "EM7whBJCYoAo"
      }
    },
    {
      "cell_type": "code",
      "source": [
        "# Chart - 3 visualization code\n",
        "timeshift_group = df.groupby('timeshift')['Rented Bike Count'].sum()\n",
        "timeshift_group.plot(kind='line',xlabel = 'timeshift', ylabel = 'Rented Bike Count')\n",
        "plt.show()"
      ],
      "metadata": {
        "id": "t6GMdE67YoAp"
      },
      "execution_count": null,
      "outputs": []
    },
    {
      "cell_type": "markdown",
      "source": [
        "##### 1. Why did you pick the specific chart?"
      ],
      "metadata": {
        "id": "fge-S5ZAYoAp"
      }
    },
    {
      "cell_type": "markdown",
      "source": [
        "To check counts of how count of rented bikes are variying in a day\n",
        "\n",
        "\n",
        "\n"
      ],
      "metadata": {
        "id": "5dBItgRVYoAp"
      }
    },
    {
      "cell_type": "markdown",
      "source": [
        "##### 2. What is/are the insight(s) found from the chart?"
      ],
      "metadata": {
        "id": "85gYPyotYoAp"
      }
    },
    {
      "cell_type": "markdown",
      "source": [
        "in Day and Evening no of bikes are rented the most \n"
      ],
      "metadata": {
        "id": "4jstXR6OYoAp"
      }
    },
    {
      "cell_type": "markdown",
      "source": [
        "##### 3. Will the gained insights help creating a positive business impact? \n",
        "Are there any insights that lead to negative growth? Justify with specific reason."
      ],
      "metadata": {
        "id": "RoGjAbkUYoAp"
      }
    },
    {
      "cell_type": "markdown",
      "source": [
        "yes it is correlated with temperature and will help in regression problem "
      ],
      "metadata": {
        "id": "zfJ8IqMcYoAp"
      }
    },
    {
      "cell_type": "markdown",
      "source": [
        "#### Chart - 4(Temperature & Humidity Variation)"
      ],
      "metadata": {
        "id": "4Of9eVA-YrdM"
      }
    },
    {
      "cell_type": "code",
      "source": [
        "# Chart - 4 visualization code\n",
        "g = sns.FacetGrid(df, col=\"Seasons\")\n",
        "g.map(plt.scatter, \"Temperature(°C)\", \"Humidity(%)\", edgecolor=\"w\")\n",
        "plt.show()\n"
      ],
      "metadata": {
        "id": "irlUoxc8YrdO"
      },
      "execution_count": null,
      "outputs": []
    },
    {
      "cell_type": "markdown",
      "source": [
        "##### 1. Why did you pick the specific chart?"
      ],
      "metadata": {
        "id": "iky9q4vBYrdO"
      }
    },
    {
      "cell_type": "markdown",
      "source": [
        "to check how temperature is variying in different different seasons"
      ],
      "metadata": {
        "id": "aJRCwT6DYrdO"
      }
    },
    {
      "cell_type": "markdown",
      "source": [
        "##### 2. What is/are the insight(s) found from the chart?"
      ],
      "metadata": {
        "id": "F6T5p64dYrdO"
      }
    },
    {
      "cell_type": "markdown",
      "source": [
        "Temperatures are following according to season:\n",
        "\n",
        "1) Winter : -20 to 15 degree\n",
        "\n",
        "2) Spring : -5 to 30 degree\n",
        "\n",
        "3) Autumn : 0 to 30 degree\n",
        "\n",
        "4) Summer : 20 to 40 degree"
      ],
      "metadata": {
        "id": "Xx8WAJvtYrdO"
      }
    },
    {
      "cell_type": "markdown",
      "source": [
        "##### 3. Will the gained insights help creating a positive business impact? \n",
        "Are there any insights that lead to negative growth? Justify with specific reason."
      ],
      "metadata": {
        "id": "y-Ehk30pYrdP"
      }
    },
    {
      "cell_type": "markdown",
      "source": [
        "Answer Here"
      ],
      "metadata": {
        "id": "jLNxxz7MYrdP"
      }
    },
    {
      "cell_type": "markdown",
      "source": [
        "#### Chart - 5(Histogram of all features)"
      ],
      "metadata": {
        "id": "bamQiAODYuh1"
      }
    },
    {
      "cell_type": "code",
      "source": [
        "# Chart - 5 visualization code\n",
        " \n",
        "numeric_features=df.select_dtypes(exclude='object')\n",
        "\n",
        "for col in numeric_features[:]:\n",
        "  sns.histplot(df[col])\n",
        "  plt.axvline(df[col].mean(), color='magenta', linestyle='dashed', linewidth=2)\n",
        "  plt.axvline(df[col].median(), color='cyan', linestyle='dashed', linewidth=2)   \n",
        "  plt.show()"
      ],
      "metadata": {
        "id": "TIJwrbroYuh3"
      },
      "execution_count": null,
      "outputs": []
    },
    {
      "cell_type": "markdown",
      "source": [
        "##### 1. Why did you pick the specific chart?"
      ],
      "metadata": {
        "id": "QHF8YVU7Yuh3"
      }
    },
    {
      "cell_type": "markdown",
      "source": [
        "To check count of values and mean , median of every column "
      ],
      "metadata": {
        "id": "dcxuIMRPYuh3"
      }
    },
    {
      "cell_type": "markdown",
      "source": [
        "##### 2. What is/are the insight(s) found from the chart?"
      ],
      "metadata": {
        "id": "GwzvFGzlYuh3"
      }
    },
    {
      "cell_type": "markdown",
      "source": [
        "Features like Rainfall , Snowfall , Solar radiations are mostly lying at 0 \n",
        "\n",
        "Humidity , temperature are normally distributed"
      ],
      "metadata": {
        "id": "uyqkiB8YYuh3"
      }
    },
    {
      "cell_type": "markdown",
      "source": [
        "##### 3. Will the gained insights help creating a positive business impact? \n",
        "Are there any insights that lead to negative growth? Justify with specific reason."
      ],
      "metadata": {
        "id": "qYpmQ266Yuh3"
      }
    },
    {
      "cell_type": "markdown",
      "source": [
        "Answer Here"
      ],
      "metadata": {
        "id": "_WtzZ_hCYuh4"
      }
    },
    {
      "cell_type": "markdown",
      "source": [
        "#### Chart - 6(Linearity of all with Dependent Feature)"
      ],
      "metadata": {
        "id": "OH-pJp9IphqM"
      }
    },
    {
      "cell_type": "code",
      "source": [
        "# Chart - 6 visualization code\n",
        "#Basic regression plots with our dependent variable \n",
        "\n",
        "for col in numeric_features[:]:\n",
        "  if col == 'Rented Bike Count':\n",
        "    pass\n",
        "  else:\n",
        "    sns.regplot(x=df[col],y=df[\"Rented Bike Count\"],line_kws={\"color\": \"red\"})\n",
        "  \n",
        "  plt.show()"
      ],
      "metadata": {
        "id": "kuRf4wtuphqN"
      },
      "execution_count": null,
      "outputs": []
    },
    {
      "cell_type": "markdown",
      "source": [
        "##### 1. Why did you pick the specific chart?"
      ],
      "metadata": {
        "id": "bbFf2-_FphqN"
      }
    },
    {
      "cell_type": "markdown",
      "source": [
        "To Check the Relationship of all features with 'Rented Bike Count'"
      ],
      "metadata": {
        "id": "loh7H2nzphqN"
      }
    },
    {
      "cell_type": "markdown",
      "source": [
        "##### 2. What is/are the insight(s) found from the chart?"
      ],
      "metadata": {
        "id": "_ouA3fa0phqN"
      }
    },
    {
      "cell_type": "markdown",
      "source": [
        "Snowfall , Rainfall and Humidity are having Negative Relationship with Count of \n",
        "rented bikes \n",
        "\n",
        "\n"
      ],
      "metadata": {
        "id": "VECbqPI7phqN"
      }
    },
    {
      "cell_type": "markdown",
      "source": [
        "##### 3. Will the gained insights help creating a positive business impact? \n",
        "Are there any insights that lead to negative growth? Justify with specific reason."
      ],
      "metadata": {
        "id": "Seke61FWphqN"
      }
    },
    {
      "cell_type": "markdown",
      "source": [
        "Yes , it will impact the regression problem positively "
      ],
      "metadata": {
        "id": "DW4_bGpfphqN"
      }
    },
    {
      "cell_type": "markdown",
      "source": [
        "#### Chart - 7(Categorical v/s Rented Bike Count- Box Plot )"
      ],
      "metadata": {
        "id": "PIIx-8_IphqN"
      }
    },
    {
      "cell_type": "code",
      "source": [
        "# Chart - 7 visualization code\n",
        "categorical_features=df.select_dtypes(include='object')\n",
        "categorical_features.head()"
      ],
      "metadata": {
        "id": "lqAIGUfyphqO"
      },
      "execution_count": null,
      "outputs": []
    },
    {
      "cell_type": "code",
      "source": [
        "for col in categorical_features:\n",
        "  plt.figure(figsize=(10,8))\n",
        "  sns.boxplot(x=df[col],y=df[\"Rented Bike Count\"])\n",
        "  plt.show()\n"
      ],
      "metadata": {
        "id": "R1Yws_crtVQh"
      },
      "execution_count": null,
      "outputs": []
    },
    {
      "cell_type": "markdown",
      "source": [
        "##### 1. Why did you pick the specific chart?"
      ],
      "metadata": {
        "id": "t27r6nlMphqO"
      }
    },
    {
      "cell_type": "markdown",
      "source": [
        "Answer Here."
      ],
      "metadata": {
        "id": "iv6ro40sphqO"
      }
    },
    {
      "cell_type": "markdown",
      "source": [
        "##### 2. What is/are the insight(s) found from the chart?"
      ],
      "metadata": {
        "id": "r2jJGEOYphqO"
      }
    },
    {
      "cell_type": "markdown",
      "source": [
        "Winter is badly affecting rented count of bikes , holiday and non holidays dont care much about it , but non functioning day is affecting "
      ],
      "metadata": {
        "id": "Po6ZPi4hphqO"
      }
    },
    {
      "cell_type": "markdown",
      "source": [
        "##### 3. Will the gained insights help creating a positive business impact? \n",
        "Are there any insights that lead to negative growth? Justify with specific reason."
      ],
      "metadata": {
        "id": "b0JNsNcRphqO"
      }
    },
    {
      "cell_type": "markdown",
      "source": [
        "Answer Here"
      ],
      "metadata": {
        "id": "xvSq8iUTphqO"
      }
    },
    {
      "cell_type": "markdown",
      "source": [
        "#### Chart - 8(Hour v/s Rented Bike Count)"
      ],
      "metadata": {
        "id": "BZR9WyysphqO"
      }
    },
    {
      "cell_type": "code",
      "source": [
        "# Chart - 8 visualization code\n",
        "avg_bikes_per_hr=df.groupby('Hour')['Rented Bike Count'].mean()\n",
        "\n",
        "plt.figure(figsize=(20,4))\n",
        "a=avg_bikes_per_hr.plot(legend=True,marker='o',title=\"Average Bikes Rented Per Hr\")\n",
        "a.set_xticks(range(len(avg_bikes_per_hr)));\n",
        "a.set_xticklabels(avg_bikes_per_hr.index.tolist(), rotation=90)"
      ],
      "metadata": {
        "id": "TdPTWpAVphqO"
      },
      "execution_count": null,
      "outputs": []
    },
    {
      "cell_type": "markdown",
      "source": [
        "##### 1. Why did you pick the specific chart?"
      ],
      "metadata": {
        "id": "jj7wYXLtphqO"
      }
    },
    {
      "cell_type": "markdown",
      "source": [
        "As we checked above using timeshift but to get more details we are plotting this to check At what time of the day bikes are rented most"
      ],
      "metadata": {
        "id": "Ob8u6rCTphqO"
      }
    },
    {
      "cell_type": "markdown",
      "source": [
        "##### 2. What is/are the insight(s) found from the chart?"
      ],
      "metadata": {
        "id": "eZrbJ2SmphqO"
      }
    },
    {
      "cell_type": "markdown",
      "source": [
        "between 6 to 9 am & 5 to 8 pm has most of the bikes rented"
      ],
      "metadata": {
        "id": "mZtgC_hjphqO"
      }
    },
    {
      "cell_type": "markdown",
      "source": [
        "##### 3. Will the gained insights help creating a positive business impact? \n",
        "Are there any insights that lead to negative growth? Justify with specific reason."
      ],
      "metadata": {
        "id": "rFu4xreNphqO"
      }
    },
    {
      "cell_type": "markdown",
      "source": [
        "Yes , depend on hour of the day company can increase , decrease no of rented bikes accordingly"
      ],
      "metadata": {
        "id": "ey_0qi68phqO"
      }
    },
    {
      "cell_type": "markdown",
      "source": [
        "#### Chart - 9(Seasonwise % of Rented Bike count)"
      ],
      "metadata": {
        "id": "YJ55k-q6phqO"
      }
    },
    {
      "cell_type": "code",
      "source": [
        "# Chart - 9 visualization code\n",
        "seasons_group = df.groupby('Seasons')['Rented Bike Count'].sum()\n",
        "seasons_group.plot(kind='pie', autopct='%1.1f%%')\n",
        "plt.show()\n",
        "\n"
      ],
      "metadata": {
        "id": "B2aS4O1ophqO"
      },
      "execution_count": null,
      "outputs": []
    },
    {
      "cell_type": "markdown",
      "source": [
        "##### 1. Why did you pick the specific chart?"
      ],
      "metadata": {
        "id": "gCFgpxoyphqP"
      }
    },
    {
      "cell_type": "markdown",
      "source": [
        "To check percentage of bikes rented seasonwise \n",
        "\n"
      ],
      "metadata": {
        "id": "TVxDimi2phqP"
      }
    },
    {
      "cell_type": "markdown",
      "source": [
        "##### 2. What is/are the insight(s) found from the chart?"
      ],
      "metadata": {
        "id": "OVtJsKN_phqQ"
      }
    },
    {
      "cell_type": "markdown",
      "source": [
        "percentage of rented bikes from overall count:\n",
        "\n",
        "Summer: 37% , Winter: 7.9%, Autumn: 29% , Spring: 26.1%"
      ],
      "metadata": {
        "id": "ngGi97qjphqQ"
      }
    },
    {
      "cell_type": "markdown",
      "source": [
        "##### 3. Will the gained insights help creating a positive business impact? \n",
        "Are there any insights that lead to negative growth? Justify with specific reason."
      ],
      "metadata": {
        "id": "lssrdh5qphqQ"
      }
    },
    {
      "cell_type": "markdown",
      "source": [
        "Company can decide next decisions based on seeing seasonwise distribution of bikes "
      ],
      "metadata": {
        "id": "tBpY5ekJphqQ"
      }
    },
    {
      "cell_type": "markdown",
      "source": [
        "#### Chart - 10(Seasons v/s Holidays)"
      ],
      "metadata": {
        "id": "U2RJ9gkRphqQ"
      }
    },
    {
      "cell_type": "code",
      "source": [
        "# Chart - 10 visualization code\n",
        "grouped = df.groupby(['Seasons', 'Holiday']).size().reset_index(name='Count')\n",
        "\n",
        "pivot_df = grouped.pivot(index='Seasons', columns='Holiday', values='Count')\n",
        "\n",
        "pivot_df.plot(kind='bar')\n",
        "\n",
        "plt.xlabel('Season')\n",
        "plt.ylabel('Count')\n",
        "plt.title('Number of Holidays in each Season')\n",
        "\n",
        "plt.show()"
      ],
      "metadata": {
        "id": "GM7a4YP4phqQ"
      },
      "execution_count": null,
      "outputs": []
    },
    {
      "cell_type": "markdown",
      "source": [
        "##### 1. Why did you pick the specific chart?"
      ],
      "metadata": {
        "id": "1M8mcRywphqQ"
      }
    },
    {
      "cell_type": "markdown",
      "source": [
        "To Check Number of holidays in each season"
      ],
      "metadata": {
        "id": "8agQvks0phqQ"
      }
    },
    {
      "cell_type": "markdown",
      "source": [
        "##### 2. What is/are the insight(s) found from the chart?"
      ],
      "metadata": {
        "id": "tgIPom80phqQ"
      }
    },
    {
      "cell_type": "markdown",
      "source": [
        "Winter has the highest number of holidays that can be affecting rented bike counts at some extend"
      ],
      "metadata": {
        "id": "Qp13pnNzphqQ"
      }
    },
    {
      "cell_type": "markdown",
      "source": [
        "##### 3. Will the gained insights help creating a positive business impact? \n",
        "Are there any insights that lead to negative growth? Justify with specific reason."
      ],
      "metadata": {
        "id": "JMzcOPDDphqR"
      }
    },
    {
      "cell_type": "markdown",
      "source": [
        "Answer Here"
      ],
      "metadata": {
        "id": "R4Ka1PC2phqR"
      }
    },
    {
      "cell_type": "markdown",
      "source": [
        "#### Chart - 11(month v/s Rented Bike count)"
      ],
      "metadata": {
        "id": "x-EpHcCOp1ci"
      }
    },
    {
      "cell_type": "code",
      "source": [
        "# Chart - 11 visualization code\n",
        "plt.figure(figsize=(7,4),dpi=100)\n",
        "sns.boxplot(x='month',y='Rented Bike Count',data=df)\n",
        "plt.show()"
      ],
      "metadata": {
        "id": "mAQTIvtqp1cj"
      },
      "execution_count": null,
      "outputs": []
    },
    {
      "cell_type": "markdown",
      "source": [
        "##### 1. Why did you pick the specific chart?"
      ],
      "metadata": {
        "id": "X_VqEhTip1ck"
      }
    },
    {
      "cell_type": "markdown",
      "source": [
        "to show monthwise count of rented bikes "
      ],
      "metadata": {
        "id": "-vsMzt_np1ck"
      }
    },
    {
      "cell_type": "markdown",
      "source": [
        "##### 2. What is/are the insight(s) found from the chart?"
      ],
      "metadata": {
        "id": "8zGJKyg5p1ck"
      }
    },
    {
      "cell_type": "markdown",
      "source": [
        "Rented bikes count seems low in month of January , February , and December when winter is there"
      ],
      "metadata": {
        "id": "ZYdMsrqVp1ck"
      }
    },
    {
      "cell_type": "markdown",
      "source": [
        "##### 3. Will the gained insights help creating a positive business impact? \n",
        "Are there any insights that lead to negative growth? Justify with specific reason."
      ],
      "metadata": {
        "id": "PVzmfK_Ep1ck"
      }
    },
    {
      "cell_type": "markdown",
      "source": [
        "Company already knew that in which season sell is better above graphs but this graph will get more idea about months present in season as it describes season in very detailed manner"
      ],
      "metadata": {
        "id": "druuKYZpp1ck"
      }
    },
    {
      "cell_type": "markdown",
      "source": [
        "#### Chart - 12(Outliers)"
      ],
      "metadata": {
        "id": "n3dbpmDWp1ck"
      }
    },
    {
      "cell_type": "code",
      "source": [
        "df.columns"
      ],
      "metadata": {
        "id": "kUqogsjzW2EL"
      },
      "execution_count": null,
      "outputs": []
    },
    {
      "cell_type": "code",
      "source": [
        "# Chart - 12 visualization code\n",
        "num_columns=['Rented Bike Count', 'Temperature(°C)', 'Humidity(%)',\n",
        "       'Wind speed (m/s)', 'Visibility (10m)',\n",
        "       'Solar Radiation (MJ/m2)', 'Rainfall(mm)', 'Snowfall (cm)']\n",
        "\n",
        "for i in num_columns:\n",
        "    plt.figure()\n",
        "    plt.tight_layout()\n",
        "    sns.set(rc={\"figure.figsize\":(8, 5)})\n",
        "    f, (ax_box, ax_hist) = plt.subplots(2, sharex=True)\n",
        "    plt.gca().set(xlabel= i,ylabel='Frequency')\n",
        "    sns.boxplot(df[i], ax=ax_box , linewidth= 1.0)\n",
        "    sns.histplot(df[i], ax=ax_hist , bins = 10,kde=True)\n",
        "\n"
      ],
      "metadata": {
        "id": "bwevp1tKp1ck"
      },
      "execution_count": null,
      "outputs": []
    },
    {
      "cell_type": "markdown",
      "source": [
        "##### 1. Why did you pick the specific chart?"
      ],
      "metadata": {
        "id": "ylSl6qgtp1ck"
      }
    },
    {
      "cell_type": "markdown",
      "source": [
        "to check the outliers present in the numerical features and the distributions of the data"
      ],
      "metadata": {
        "id": "m2xqNkiQp1ck"
      }
    },
    {
      "cell_type": "markdown",
      "source": [
        "##### 2. What is/are the insight(s) found from the chart?"
      ],
      "metadata": {
        "id": "ZWILFDl5p1ck"
      }
    },
    {
      "cell_type": "markdown",
      "source": [
        "Solar radiation , wind spped , rainfall , snowfall has outliers and showing other distributions.\n",
        "\n",
        "Rented bike count also has outliers and showing skewed distribution."
      ],
      "metadata": {
        "id": "x-lUsV2mp1ck"
      }
    },
    {
      "cell_type": "markdown",
      "source": [
        "##### 3. Will the gained insights help creating a positive business impact? \n",
        "Are there any insights that lead to negative growth? Justify with specific reason."
      ],
      "metadata": {
        "id": "M7G43BXep1ck"
      }
    },
    {
      "cell_type": "markdown",
      "source": [
        "yes , it will definately help to find and treat outliers from data to get perfect results from our ML models"
      ],
      "metadata": {
        "id": "5wwDJXsLp1cl"
      }
    },
    {
      "cell_type": "markdown",
      "source": [
        "#### Chart - 13(Functioning day v/s Seasons)"
      ],
      "metadata": {
        "id": "Ag9LCva-p1cl"
      }
    },
    {
      "cell_type": "code",
      "source": [
        "# Chart - 13 visualization code\n",
        "grouped = df.groupby(['Seasons', 'Functioning Day']).size().reset_index(name='Count')\n",
        "\n",
        "pivot_df = grouped.pivot(index='Seasons', columns='Functioning Day', values='Count')\n",
        "\n",
        "pivot_df.plot(kind='bar')\n",
        "\n",
        "plt.xlabel('Season')\n",
        "plt.ylabel('Count')\n",
        "plt.title('Number of Functioning days in each Season')\n",
        "\n",
        "plt.show()"
      ],
      "metadata": {
        "id": "EUfxeq9-p1cl"
      },
      "execution_count": null,
      "outputs": []
    },
    {
      "cell_type": "markdown",
      "source": [
        "##### 1. Why did you pick the specific chart?"
      ],
      "metadata": {
        "id": "E6MkPsBcp1cl"
      }
    },
    {
      "cell_type": "markdown",
      "source": [
        "Answer Here."
      ],
      "metadata": {
        "id": "V22bRsFWp1cl"
      }
    },
    {
      "cell_type": "markdown",
      "source": [
        "##### 2. What is/are the insight(s) found from the chart?"
      ],
      "metadata": {
        "id": "2cELzS2fp1cl"
      }
    },
    {
      "cell_type": "markdown",
      "source": [
        "Season Autumn has the highest number of Functioning day which could be addding more count of rented bikes to its part ."
      ],
      "metadata": {
        "id": "ozQPc2_Ip1cl"
      }
    },
    {
      "cell_type": "markdown",
      "source": [
        "##### 3. Will the gained insights help creating a positive business impact? \n",
        "Are there any insights that lead to negative growth? Justify with specific reason."
      ],
      "metadata": {
        "id": "3MPXvC8up1cl"
      }
    },
    {
      "cell_type": "markdown",
      "source": [
        "Answer Here"
      ],
      "metadata": {
        "id": "GL8l1tdLp1cl"
      }
    },
    {
      "cell_type": "markdown",
      "source": [
        "#### Chart - 14 - Correlation Heatmap"
      ],
      "metadata": {
        "id": "NC_X3p0fY2L0"
      }
    },
    {
      "cell_type": "code",
      "source": [
        "# Correlation Heatmap visualization code\n",
        "plt.figure(figsize=(15,10))\n",
        "sns.heatmap(df.corr().T,annot=True)"
      ],
      "metadata": {
        "id": "xyC9zolEZNRQ"
      },
      "execution_count": null,
      "outputs": []
    },
    {
      "cell_type": "code",
      "source": [
        "#Heatmap also for Categorical features\n",
        "cat_corr=df.apply(lambda x : pd.factorize(x)[0]).corr(method='pearson', min_periods=1)\n",
        "sns.heatmap(cat_corr)"
      ],
      "metadata": {
        "id": "zSPRnoXzFFkW"
      },
      "execution_count": null,
      "outputs": []
    },
    {
      "cell_type": "markdown",
      "source": [
        "##### 1. Why did you pick the specific chart?"
      ],
      "metadata": {
        "id": "UV0SzAkaZNRQ"
      }
    },
    {
      "cell_type": "markdown",
      "source": [
        "to check which features are correlated , highly postively correlated features can affect the results so need to drop them hence"
      ],
      "metadata": {
        "id": "DVPuT8LYZNRQ"
      }
    },
    {
      "cell_type": "markdown",
      "source": [
        "##### 2. What is/are the insight(s) found from the chart?"
      ],
      "metadata": {
        "id": "YPEH6qLeZNRQ"
      }
    },
    {
      "cell_type": "markdown",
      "source": [
        "Dew point temperature and temperature are highly positively correlated i.e 0.91 \n",
        "if it was above 0.95 we could have dropped it "
      ],
      "metadata": {
        "id": "bfSqtnDqZNRR"
      }
    },
    {
      "cell_type": "markdown",
      "source": [
        "#### Chart - 15 - Pair Plot "
      ],
      "metadata": {
        "id": "q29F0dvdveiT"
      }
    },
    {
      "cell_type": "code",
      "source": [
        "# Pair Plot visualization code\n",
        "sns.pairplot(df)"
      ],
      "metadata": {
        "id": "o58-TEIhveiU"
      },
      "execution_count": null,
      "outputs": []
    },
    {
      "cell_type": "markdown",
      "source": [
        "##### 1. Why did you pick the specific chart?"
      ],
      "metadata": {
        "id": "EXh0U9oCveiU"
      }
    },
    {
      "cell_type": "markdown",
      "source": [
        "Answer Here."
      ],
      "metadata": {
        "id": "eMmPjTByveiU"
      }
    },
    {
      "cell_type": "markdown",
      "source": [
        "##### 2. What is/are the insight(s) found from the chart?"
      ],
      "metadata": {
        "id": "22aHeOlLveiV"
      }
    },
    {
      "cell_type": "markdown",
      "source": [
        "Answer Here"
      ],
      "metadata": {
        "id": "uPQ8RGwHveiV"
      }
    },
    {
      "cell_type": "markdown",
      "source": [
        "## ***5. Hypothesis Testing***"
      ],
      "metadata": {
        "id": "g-ATYxFrGrvw"
      }
    },
    {
      "cell_type": "markdown",
      "source": [
        "### Based on your chart experiments, define three hypothetical statements from the dataset. In the next three questions, perform hypothesis testing to obtain final conclusion about the statements through your code and statistical testing."
      ],
      "metadata": {
        "id": "Yfr_Vlr8HBkt"
      }
    },
    {
      "cell_type": "markdown",
      "source": [
        "Answer Here."
      ],
      "metadata": {
        "id": "-7MS06SUHkB-"
      }
    },
    {
      "cell_type": "markdown",
      "source": [
        "### Hypothetical Statement - 1"
      ],
      "metadata": {
        "id": "8yEUt7NnHlrM"
      }
    },
    {
      "cell_type": "markdown",
      "source": [
        "#### 1. State Your research hypothesis as a null hypothesis and alternate hypothesis."
      ],
      "metadata": {
        "id": "tEA2Xm5dHt1r"
      }
    },
    {
      "cell_type": "markdown",
      "source": [
        "Reasearchers took 20% of data as sample to find out number of bikes rented over the years on daily basis and claiming that there is no difference between sample mean of rented bikes and population mean of rented bikes\n",
        "\n",
        "H0: There is Difference between sample mean of daily count of bikes and population count of bikes\n",
        "\n",
        "H1: There is No Difference between Sample mean of daily count of bikes and population count of bikes"
      ],
      "metadata": {
        "id": "HI9ZP0laH0D-"
      }
    },
    {
      "cell_type": "markdown",
      "source": [
        "#### 2. Perform an appropriate statistical test."
      ],
      "metadata": {
        "id": "I79__PHVH19G"
      }
    },
    {
      "cell_type": "code",
      "source": [
        "# Perform Statistical Test to obtain P-Value\n",
        "\n",
        "#Performing One Sample T-Test to compare sample and population of same group\n",
        "from scipy.stats import ttest_1samp\n",
        "alpha=0.05\n",
        "\n",
        "pop_avg_bikes_count=np.mean(df['Rented Bike Count'])\n",
        "sample_size=876*2\n",
        "bike_count_sample=np.random.choice(df['Rented Bike Count'],sample_size)\n",
        "\n",
        "ttest,p_value=ttest_1samp(bike_count_sample,pop_avg_bikes_count)\n",
        "print(p_value)\n",
        "\n",
        "if p_value < alpha:  \n",
        "    print(\" Reject H0, There is No difference between sample and population mean of rented bikes\")\n",
        "else:\n",
        "    print(\"Accept H0, There is a difference between sample and population mean of rented bikes\")\n",
        "\n",
        "\n",
        "\n",
        "\n"
      ],
      "metadata": {
        "id": "oZrfquKtyian"
      },
      "execution_count": null,
      "outputs": []
    },
    {
      "cell_type": "markdown",
      "source": [
        "##### Which statistical test have you done to obtain P-Value?"
      ],
      "metadata": {
        "id": "Ou-I18pAyIpj"
      }
    },
    {
      "cell_type": "markdown",
      "source": [
        "One Sample T-test "
      ],
      "metadata": {
        "id": "s2U0kk00ygSB"
      }
    },
    {
      "cell_type": "markdown",
      "source": [
        "##### Why did you choose the specific statistical test?"
      ],
      "metadata": {
        "id": "fF3858GYyt-u"
      }
    },
    {
      "cell_type": "markdown",
      "source": [
        "To Compare sample and population of rented bike count on daily basis"
      ],
      "metadata": {
        "id": "HO4K0gP5y3B4"
      }
    },
    {
      "cell_type": "markdown",
      "source": [
        "### Hypothetical Statement - 2"
      ],
      "metadata": {
        "id": "4_0_7-oCpUZd"
      }
    },
    {
      "cell_type": "markdown",
      "source": [
        "#### 1. State Your research hypothesis as a null hypothesis and alternate hypothesis."
      ],
      "metadata": {
        "id": "hwyV_J3ipUZe"
      }
    },
    {
      "cell_type": "markdown",
      "source": [
        "Reasearchers also said that if we vary the count of bikes by 35 and still their mean will be same \n",
        "\n",
        "H0 : mean will be same after increasing numbers\n",
        "\n",
        "H1 : mean will not be same after increasing numbers"
      ],
      "metadata": {
        "id": "FnpLGJ-4pUZe"
      }
    },
    {
      "cell_type": "markdown",
      "source": [
        "#### 2. Perform an appropriate statistical test."
      ],
      "metadata": {
        "id": "3yB-zSqbpUZe"
      }
    },
    {
      "cell_type": "code",
      "source": [
        "# Perform Statistical Test to obtain P-Value\n",
        "from scipy import stats\n",
        "alpha=0.05\n",
        "\n",
        "rented_bike_count=df['Rented Bike Count'].values\n",
        "new_rented_bike_count=rented_bike_count+stats.norm.rvs(scale=35,size=len(rented_bike_count))\n",
        "\n",
        "print(rented_bike_count)\n",
        "print(new_rented_bike_count)"
      ],
      "metadata": {
        "id": "sWxdNTXNpUZe"
      },
      "execution_count": null,
      "outputs": []
    },
    {
      "cell_type": "code",
      "source": [
        "bikes_df=pd.DataFrame({\"bikes\":np.array(rented_bike_count),\n",
        "                         \"bikes_new\":np.array(new_rented_bike_count),\n",
        "                       \"numberof_bikes_change\":np.array(new_rented_bike_count)-np.array(rented_bike_count)})\n",
        "bikes_df"
      ],
      "metadata": {
        "id": "gWnrYP5PBqh7"
      },
      "execution_count": null,
      "outputs": []
    },
    {
      "cell_type": "code",
      "source": [
        "_,p_value=stats.ttest_rel(a=rented_bike_count,b=new_rented_bike_count)\n",
        "print(\"P value is: \",p_value)\n",
        "\n",
        "if p_value < alpha:  \n",
        "    print(\" Reject H0 , mean will not be same after increasing numbers\")\n",
        "else:\n",
        "    print(\"Accept H0 , mean will be same after increasing numbers\")\n"
      ],
      "metadata": {
        "id": "XC0gbxMxDGJ4"
      },
      "execution_count": null,
      "outputs": []
    },
    {
      "cell_type": "markdown",
      "source": [
        "##### Which statistical test have you done to obtain P-Value?"
      ],
      "metadata": {
        "id": "dEUvejAfpUZe"
      }
    },
    {
      "cell_type": "markdown",
      "source": [
        "**Two Sample T-test** "
      ],
      "metadata": {
        "id": "oLDrPz7HpUZf"
      }
    },
    {
      "cell_type": "markdown",
      "source": [
        "##### Why did you choose the specific statistical test?"
      ],
      "metadata": {
        "id": "Fd15vwWVpUZf"
      }
    },
    {
      "cell_type": "markdown",
      "source": [
        "to compare two populations of before and after of rented bike count"
      ],
      "metadata": {
        "id": "4xOGYyiBpUZf"
      }
    },
    {
      "cell_type": "markdown",
      "source": [
        "### Hypothetical Statement - 3"
      ],
      "metadata": {
        "id": "bn_IUdTipZyH"
      }
    },
    {
      "cell_type": "markdown",
      "source": [
        "#### 1. State Your research hypothesis as a null hypothesis and alternate hypothesis."
      ],
      "metadata": {
        "id": "nswIvDneO7qN"
      }
    },
    {
      "cell_type": "markdown",
      "source": [
        "They are confused about is there Relationship between Holidays and Functioning Day or not ?"
      ],
      "metadata": {
        "id": "7gWI5rT9pZyH"
      }
    },
    {
      "cell_type": "markdown",
      "source": [
        "#### 2. Perform an appropriate statistical test."
      ],
      "metadata": {
        "id": "Nff-vKELpZyI"
      }
    },
    {
      "cell_type": "code",
      "source": [
        "# Perform Statistical Test to obtain P-Value\n",
        "dataset_table=pd.crosstab(df['Holiday'],df['Functioning Day'])\n",
        "print(dataset_table)\n",
        "\n",
        "Observed_Values = dataset_table.values \n",
        "print(Observed_Values)\n",
        "\n"
      ],
      "metadata": {
        "id": "s6AnJQjtpZyI"
      },
      "execution_count": null,
      "outputs": []
    },
    {
      "cell_type": "code",
      "source": [
        "val=stats.chi2_contingency(dataset_table)\n",
        "val"
      ],
      "metadata": {
        "id": "MeZPSs-aIvEr"
      },
      "execution_count": null,
      "outputs": []
    },
    {
      "cell_type": "code",
      "source": [
        "Expected_Values=val[3]\n",
        "no_of_rows=len(dataset_table.iloc[0:2,0])\n",
        "no_of_columns=len(dataset_table.iloc[0,0:2])\n",
        "ddof=(no_of_rows-1)*(no_of_columns-1)\n",
        "print(\"Degree of Freedom:-\",ddof)\n",
        "alpha = 0.05"
      ],
      "metadata": {
        "id": "vpHxpjhdI3iK"
      },
      "execution_count": null,
      "outputs": []
    },
    {
      "cell_type": "code",
      "source": [
        "from scipy.stats import chi2\n",
        "chi_square=sum([(o-e)**2./e for o,e in zip(Observed_Values,Expected_Values)])\n",
        "chi_square_statistic=chi_square[0]+chi_square[1]"
      ],
      "metadata": {
        "id": "kAHIAGr0JHhx"
      },
      "execution_count": null,
      "outputs": []
    },
    {
      "cell_type": "code",
      "source": [
        "print(\"chi-square statistic:-\",chi_square_statistic)\n"
      ],
      "metadata": {
        "id": "m8FW7cLzK2lS"
      },
      "execution_count": null,
      "outputs": []
    },
    {
      "cell_type": "code",
      "source": [
        "p_value=1-chi2.cdf(x=chi_square_statistic,df=ddof)\n",
        "if p_value<=alpha:\n",
        "    print(\"There is a relationship between Holidays and Functioning Day \")\n",
        "else:\n",
        "    print(\"There is no relationship between Holidays and Functioning Day \")"
      ],
      "metadata": {
        "id": "zcgEdOrvLU2x"
      },
      "execution_count": null,
      "outputs": []
    },
    {
      "cell_type": "markdown",
      "source": [
        "##### Which statistical test have you done to obtain P-Value?"
      ],
      "metadata": {
        "id": "kLW572S8pZyI"
      }
    },
    {
      "cell_type": "markdown",
      "source": [
        "I have performed **Chi Square** test to obtain P-Value"
      ],
      "metadata": {
        "id": "ytWJ8v15pZyI"
      }
    },
    {
      "cell_type": "markdown",
      "source": [
        "##### Why did you choose the specific statistical test?"
      ],
      "metadata": {
        "id": "dWbDXHzopZyI"
      }
    },
    {
      "cell_type": "markdown",
      "source": [
        "To Compare two categorical features"
      ],
      "metadata": {
        "id": "M99G98V6pZyI"
      }
    },
    {
      "cell_type": "markdown",
      "source": [
        "## ***6. Feature Engineering & Data Pre-processing***"
      ],
      "metadata": {
        "id": "yLjJCtPM0KBk"
      }
    },
    {
      "cell_type": "markdown",
      "source": [
        "### 1. Handling Missing Values"
      ],
      "metadata": {
        "id": "xiyOF9F70UgQ"
      }
    },
    {
      "cell_type": "code",
      "source": [
        "# Handling Missing Values & Missing Value Imputation\n",
        "# No missing values are there"
      ],
      "metadata": {
        "id": "iRsAHk1K0fpS"
      },
      "execution_count": null,
      "outputs": []
    },
    {
      "cell_type": "markdown",
      "source": [
        "#### What all missing value imputation techniques have you used and why did you use those techniques?"
      ],
      "metadata": {
        "id": "7wuGOrhz0itI"
      }
    },
    {
      "cell_type": "markdown",
      "source": [
        "Answer Here."
      ],
      "metadata": {
        "id": "1ixusLtI0pqI"
      }
    },
    {
      "cell_type": "markdown",
      "source": [
        "### 2. Handling Outliers"
      ],
      "metadata": {
        "id": "id1riN9m0vUs"
      }
    },
    {
      "cell_type": "code",
      "source": [
        "# Handling Outliers & Outlier treatments\n",
        "\n",
        "# Removing outliers by Using IQR method:\n",
        "q1, q3, median = df['Rented Bike Count'].quantile([0.25,0.75,0.5])\n",
        "lower_limit = q1 - 1.5*(q3-q1)\n",
        "upper_limit = q3 + 1.5*(q3-q1)\n",
        "df['Rented Bike Count'] = np.where(df['Rented Bike Count'] > upper_limit, median,np.where(\n",
        "                            df['Rented Bike Count'] < lower_limit,median,df['Rented Bike Count']))\n",
        "\n",
        "# Removing outliers by Percentile:\n",
        "for col in ['Solar Radiation (MJ/m2)','Wind speed (m/s)', 'Rainfall(mm)', 'Snowfall (cm)']:\n",
        "  upper_limit = df[col].quantile(0.99)\n",
        "  df[col] = np.where(df[col] > upper_limit, upper_limit, df[col])\n",
        "\n"
      ],
      "metadata": {
        "id": "M6w2CzZf04JK"
      },
      "execution_count": null,
      "outputs": []
    },
    {
      "cell_type": "markdown",
      "source": [
        "##### What all outlier treatment techniques have you used and why did you use those techniques?"
      ],
      "metadata": {
        "id": "578E2V7j08f6"
      }
    },
    {
      "cell_type": "markdown",
      "source": [
        "***Note1***-if data is Skewed then use IQR to remove outliers\n",
        "\n",
        "***Note2***-if data is Normally distributed then Z-score Treatment\n",
        "\n",
        "***Note3***-if data is distributed in different way then percentile Approch\n",
        "\n",
        "\"No need of **Trimming** it will reduce our data size since i used **Capping** along with methods\"\n",
        "\n",
        "1)'Solar Radiation' , 'Wind spped' , 'Rainfall' , 'Snowfall' has outliers and showing **other** distributions so i used **Percentile** method to treat outliers.\n",
        "\n",
        "2)'Rented Bike Count' also has outliers and showing **Skewed** distribution so we can use **IQR method** to treat outliers."
      ],
      "metadata": {
        "id": "uGZz5OrT1HH-"
      }
    },
    {
      "cell_type": "code",
      "source": [
        "for i in ['Rented Bike Count','Wind speed (m/s)','Solar Radiation (MJ/m2)', 'Rainfall(mm)', 'Snowfall (cm)']:\n",
        "    plt.figure()\n",
        "    plt.tight_layout()\n",
        "    sns.set(rc={\"figure.figsize\":(8, 5)})\n",
        "    f, (ax_box, ax_hist) = plt.subplots(2, sharex=True)\n",
        "    plt.gca().set(xlabel= i,ylabel='Frequency')\n",
        "    sns.boxplot(df[i], ax=ax_box , linewidth= 1.0)\n",
        "    sns.histplot(df[i], ax=ax_hist , bins = 10,kde=True)"
      ],
      "metadata": {
        "id": "yp2CwnGB3t3b"
      },
      "execution_count": null,
      "outputs": []
    },
    {
      "cell_type": "markdown",
      "source": [
        "### 3. Categorical Encoding"
      ],
      "metadata": {
        "id": "89xtkJwZ18nB"
      }
    },
    {
      "cell_type": "code",
      "source": [
        "# Encode your categorical columns\n",
        "df.head()"
      ],
      "metadata": {
        "id": "21JmIYMG2hEo"
      },
      "execution_count": null,
      "outputs": []
    },
    {
      "cell_type": "code",
      "source": [
        "encoder = {'Holiday':{'Holiday':1, 'No Holiday':0},'Functioning Day':{'Yes':1, 'No': 0},'timeshift': {'night':0, 'day':1, 'evening':2}}\n",
        "\n",
        "# Label Encoding\n",
        "df = df.replace(encoder)\n",
        "\n",
        "# One Hot Encoding\n",
        "df = pd.get_dummies(df, columns=[\"Seasons\"], prefix='', prefix_sep='')\n",
        "# New look\n",
        "df.head()"
      ],
      "metadata": {
        "id": "8rv6jSGGSq2J"
      },
      "execution_count": null,
      "outputs": []
    },
    {
      "cell_type": "code",
      "source": [
        "df.shape"
      ],
      "metadata": {
        "id": "_mCxE9S7S6-U"
      },
      "execution_count": null,
      "outputs": []
    },
    {
      "cell_type": "markdown",
      "source": [
        "#### What all categorical encoding techniques have you used & why did you use those techniques?"
      ],
      "metadata": {
        "id": "67NQN5KX2AMe"
      }
    },
    {
      "cell_type": "markdown",
      "source": [
        "Sesons , Holidays, Functioning Day features are Nominal hence i used OneHotEncoding on them and after that removing one column from them to avoid Multicollinearity"
      ],
      "metadata": {
        "id": "UDaue5h32n_G"
      }
    },
    {
      "cell_type": "markdown",
      "source": [
        "### 4. Textual Data Preprocessing \n",
        "(It's mandatory for textual dataset i.e., NLP, Sentiment Analysis, Text Clustering etc.)"
      ],
      "metadata": {
        "id": "Iwf50b-R2tYG"
      }
    },
    {
      "cell_type": "markdown",
      "source": [
        "#### 1. Expand Contraction"
      ],
      "metadata": {
        "id": "GMQiZwjn3iu7"
      }
    },
    {
      "cell_type": "code",
      "source": [
        "# Expand Contraction"
      ],
      "metadata": {
        "id": "PTouz10C3oNN"
      },
      "execution_count": null,
      "outputs": []
    },
    {
      "cell_type": "markdown",
      "source": [
        "#### 2. Lower Casing"
      ],
      "metadata": {
        "id": "WVIkgGqN3qsr"
      }
    },
    {
      "cell_type": "code",
      "source": [
        "# Lower Casing"
      ],
      "metadata": {
        "id": "88JnJ1jN3w7j"
      },
      "execution_count": null,
      "outputs": []
    },
    {
      "cell_type": "markdown",
      "source": [
        "#### 3. Removing Punctuations"
      ],
      "metadata": {
        "id": "XkPnILGE3zoT"
      }
    },
    {
      "cell_type": "code",
      "source": [
        "# Remove Punctuations"
      ],
      "metadata": {
        "id": "vqbBqNaA33c0"
      },
      "execution_count": null,
      "outputs": []
    },
    {
      "cell_type": "markdown",
      "source": [
        "#### 4. Removing URLs & Removing words and digits contain digits."
      ],
      "metadata": {
        "id": "Hlsf0x5436Go"
      }
    },
    {
      "cell_type": "code",
      "source": [
        "# Remove URLs & Remove words and digits contain digits"
      ],
      "metadata": {
        "id": "2sxKgKxu4Ip3"
      },
      "execution_count": null,
      "outputs": []
    },
    {
      "cell_type": "markdown",
      "source": [
        "#### 5. Removing Stopwords & Removing White spaces"
      ],
      "metadata": {
        "id": "mT9DMSJo4nBL"
      }
    },
    {
      "cell_type": "code",
      "source": [
        "# Remove Stopwords"
      ],
      "metadata": {
        "id": "T2LSJh154s8W"
      },
      "execution_count": null,
      "outputs": []
    },
    {
      "cell_type": "code",
      "source": [
        "# Remove White spaces"
      ],
      "metadata": {
        "id": "EgLJGffy4vm0"
      },
      "execution_count": null,
      "outputs": []
    },
    {
      "cell_type": "markdown",
      "source": [
        "#### 6. Rephrase Text"
      ],
      "metadata": {
        "id": "c49ITxTc407N"
      }
    },
    {
      "cell_type": "code",
      "source": [
        "# Rephrase Text"
      ],
      "metadata": {
        "id": "foqY80Qu48N2"
      },
      "execution_count": null,
      "outputs": []
    },
    {
      "cell_type": "markdown",
      "source": [
        "#### 7. Tokenization"
      ],
      "metadata": {
        "id": "OeJFEK0N496M"
      }
    },
    {
      "cell_type": "code",
      "source": [
        "# Tokenization"
      ],
      "metadata": {
        "id": "ijx1rUOS5CUU"
      },
      "execution_count": null,
      "outputs": []
    },
    {
      "cell_type": "markdown",
      "source": [
        "#### 8. Text Normalization"
      ],
      "metadata": {
        "id": "9ExmJH0g5HBk"
      }
    },
    {
      "cell_type": "code",
      "source": [
        "# Normalizing Text (i.e., Stemming, Lemmatization etc.)"
      ],
      "metadata": {
        "id": "AIJ1a-Zc5PY8"
      },
      "execution_count": null,
      "outputs": []
    },
    {
      "cell_type": "markdown",
      "source": [
        "##### Which text normalization technique have you used and why?"
      ],
      "metadata": {
        "id": "cJNqERVU536h"
      }
    },
    {
      "cell_type": "markdown",
      "source": [
        "Answer Here."
      ],
      "metadata": {
        "id": "Z9jKVxE06BC1"
      }
    },
    {
      "cell_type": "markdown",
      "source": [
        "#### 9. Part of speech tagging"
      ],
      "metadata": {
        "id": "k5UmGsbsOxih"
      }
    },
    {
      "cell_type": "code",
      "source": [
        "# POS Taging"
      ],
      "metadata": {
        "id": "btT3ZJBAO6Ik"
      },
      "execution_count": null,
      "outputs": []
    },
    {
      "cell_type": "markdown",
      "source": [
        "#### 10. Text Vectorization"
      ],
      "metadata": {
        "id": "T0VqWOYE6DLQ"
      }
    },
    {
      "cell_type": "code",
      "source": [
        "# Vectorizing Text"
      ],
      "metadata": {
        "id": "yBRtdhth6JDE"
      },
      "execution_count": null,
      "outputs": []
    },
    {
      "cell_type": "markdown",
      "source": [
        "##### Which text vectorization technique have you used and why?"
      ],
      "metadata": {
        "id": "qBMux9mC6MCf"
      }
    },
    {
      "cell_type": "markdown",
      "source": [
        "Answer Here."
      ],
      "metadata": {
        "id": "su2EnbCh6UKQ"
      }
    },
    {
      "cell_type": "markdown",
      "source": [
        "### 4. Feature Manipulation & Selection"
      ],
      "metadata": {
        "id": "-oLEiFgy-5Pf"
      }
    },
    {
      "cell_type": "markdown",
      "source": [
        "#### 1. Feature Manipulation"
      ],
      "metadata": {
        "id": "C74aWNz2AliB"
      }
    },
    {
      "cell_type": "code",
      "source": [
        "# Manipulate Features to minimize feature correlation and create new features\n",
        "\n",
        "\n",
        "# Calculating VIF for each feature\n",
        "from statsmodels.stats.outliers_influence import variance_inflation_factor\n",
        "def calc_vif(data):\n",
        "    vif = pd.DataFrame()\n",
        "    vif[\"variables\"] = data.columns\n",
        "    vif[\"VIF\"] = [variance_inflation_factor(data.values, i) for i in range(data.shape[1])]\n",
        "\n",
        "    return(vif.sort_values(by='VIF',ascending=False).reset_index(drop=True))\n",
        "\n",
        "independent_variables = [i for i in df.columns if i not in ['Rented Bike Count']]\n",
        "calc_vif(df[independent_variables])"
      ],
      "metadata": {
        "id": "h1qC4yhBApWC"
      },
      "execution_count": null,
      "outputs": []
    },
    {
      "cell_type": "markdown",
      "source": [
        "#### 2. Feature Selection"
      ],
      "metadata": {
        "id": "2DejudWSA-a0"
      }
    },
    {
      "cell_type": "code",
      "source": [
        "# Select your features wisely to avoid overfitting\n",
        "independent_variables = [i for i in df.columns if i not in ['Rented Bike Count','Dew point temperature(°C)','Hour','Humidity(%)','Summer','Winter']]\n",
        "calc_vif(df[independent_variables])"
      ],
      "metadata": {
        "id": "YLhe8UmaBCEE"
      },
      "execution_count": null,
      "outputs": []
    },
    {
      "cell_type": "code",
      "source": [
        "df=df.drop(columns= ['Dew point temperature(°C)','Hour','Humidity(%)','Summer','Winter'])\n",
        "df.head()"
      ],
      "metadata": {
        "id": "W-dDLLwk1TjD"
      },
      "execution_count": null,
      "outputs": []
    },
    {
      "cell_type": "code",
      "source": [
        "sns.heatmap(df.corr())"
      ],
      "metadata": {
        "id": "Ozahq5wN1cYN"
      },
      "execution_count": null,
      "outputs": []
    },
    {
      "cell_type": "markdown",
      "source": [
        "##### What all feature selection methods have you used  and why?"
      ],
      "metadata": {
        "id": "pEMng2IbBLp7"
      }
    },
    {
      "cell_type": "markdown",
      "source": [
        "VIF(Variance Inflation factor) to avoid Multicollinearity"
      ],
      "metadata": {
        "id": "rb2Lh6Z8BgGs"
      }
    },
    {
      "cell_type": "markdown",
      "source": [
        "##### Which all features you found important and why?"
      ],
      "metadata": {
        "id": "rAdphbQ9Bhjc"
      }
    },
    {
      "cell_type": "markdown",
      "source": [
        "Above selected Features won't impact badly on model as they will remove\n",
        "Multicoliinearity"
      ],
      "metadata": {
        "id": "fGgaEstsBnaf"
      }
    },
    {
      "cell_type": "markdown",
      "source": [
        "### 5. Data Transformation"
      ],
      "metadata": {
        "id": "TNVZ9zx19K6k"
      }
    },
    {
      "cell_type": "markdown",
      "source": [
        "#### Do you think that your data needs to be transformed? If yes, which transformation have you used. Explain Why?\n",
        "\n",
        "####--My Dependent variable is not normally distributed so i used SQRT transformation on it "
      ],
      "metadata": {
        "id": "nqoHp30x9hH9"
      }
    },
    {
      "cell_type": "code",
      "source": [
        "df.head()"
      ],
      "metadata": {
        "id": "4MwXLnqaG942"
      },
      "execution_count": null,
      "outputs": []
    },
    {
      "cell_type": "code",
      "source": [
        "# Transform Your data\n",
        "print(f\"Skewness of original data : {df['Rented Bike Count'].skew()}\")\n",
        "print(f\"Skewness after log transformation : {np.log(df['Rented Bike Count']).skew()}\")\n",
        "print(f\"Skewness after transformation : {np.sqrt(df['Rented Bike Count']).skew()}\")\n",
        "\n"
      ],
      "metadata": {
        "id": "I6quWQ1T9rtH"
      },
      "execution_count": null,
      "outputs": []
    },
    {
      "cell_type": "code",
      "source": [
        "plt.figure(figsize=(9,4))\n",
        "plot = plt.subplot(1,2,1)\n",
        "sns.distplot(df['Rented Bike Count']).set_title('Bike_Count Before Transformation',weight='bold')\n",
        "plot = plt.subplot(1,2,2)\n",
        "sns.distplot(np.sqrt(df['Rented Bike Count'])).set_title('Bike_Count After SQRT Transformation',weight='bold')\n",
        "plt.tight_layout()"
      ],
      "metadata": {
        "id": "Ili4GLq-JcFh"
      },
      "execution_count": null,
      "outputs": []
    },
    {
      "cell_type": "code",
      "source": [
        "plt.figure(figsize=(9,4))\n",
        "plot = plt.subplot(1,2,1)\n",
        "sns.distplot(np.log1p(df['Rented Bike Count'])).set_title('Bike_Count After LOG Transformation',weight='bold')\n",
        "plot = plt.subplot(1,2,2)\n",
        "sns.distplot((df['Rented Bike Count'])**2).set_title('Bike_Count After SQUARE Transformation',weight='bold')\n",
        "plt.tight_layout()"
      ],
      "metadata": {
        "id": "kT1paOHNXGuq"
      },
      "execution_count": null,
      "outputs": []
    },
    {
      "cell_type": "markdown",
      "source": [
        "### 6. Data Scaling"
      ],
      "metadata": {
        "id": "rMDnDkt2B6du"
      }
    },
    {
      "cell_type": "code",
      "source": [
        "# Scaling your data\n",
        "from sklearn.preprocessing import MinMaxScaler,StandardScaler\n",
        "\n",
        "minmax_scaler = MinMaxScaler()\n",
        "standard_scaler = StandardScaler()\n",
        "\n"
      ],
      "metadata": {
        "id": "dL9LWpySC6x_"
      },
      "execution_count": null,
      "outputs": []
    },
    {
      "cell_type": "markdown",
      "source": [
        "##### Which method have you used to scale you data and why?\n",
        "StandardScaler is for data which is normally distributed which reduces units to -1 to 1 making mean=0\n",
        "\n",
        "MinMaxScaler is for data which boundries are known which reduces units to 0 to 1 "
      ],
      "metadata": {
        "id": "yiiVWRdJDDil"
      }
    },
    {
      "cell_type": "markdown",
      "source": [
        "### 7. Dimesionality Reduction"
      ],
      "metadata": {
        "id": "1UUpS68QDMuG"
      }
    },
    {
      "cell_type": "markdown",
      "source": [
        "##### Do you think that dimensionality reduction is needed? Explain Why?"
      ],
      "metadata": {
        "id": "kexQrXU-DjzY"
      }
    },
    {
      "cell_type": "markdown",
      "source": [
        "Answer Here."
      ],
      "metadata": {
        "id": "GGRlBsSGDtTQ"
      }
    },
    {
      "cell_type": "code",
      "source": [
        "# DImensionality Reduction (If needed)"
      ],
      "metadata": {
        "id": "kQfvxBBHDvCa"
      },
      "execution_count": null,
      "outputs": []
    },
    {
      "cell_type": "markdown",
      "source": [
        "##### Which dimensionality reduction technique have you used and why? (If dimensionality reduction done on dataset.)"
      ],
      "metadata": {
        "id": "T5CmagL3EC8N"
      }
    },
    {
      "cell_type": "markdown",
      "source": [
        "Answer Here."
      ],
      "metadata": {
        "id": "ZKr75IDuEM7t"
      }
    },
    {
      "cell_type": "markdown",
      "source": [
        "### 8. Data Splitting & Scaling also"
      ],
      "metadata": {
        "id": "BhH2vgX9EjGr"
      }
    },
    {
      "cell_type": "code",
      "source": [
        "# Split your data to train and test. Choose Splitting ratio wisely.\n",
        "X = df.drop(['Rented Bike Count'],axis=1)\n",
        "y = np.sqrt(df['Rented Bike Count'])\n",
        "\n",
        "#Splitting to Train and Test\n",
        "from sklearn.model_selection import train_test_split\n",
        "X_train, X_test, y_train, y_test = train_test_split(X, y, test_size=0.2, random_state=0)\n",
        "X_test.shape\n",
        "\n",
        "X_train = minmax_scaler.fit_transform(X_train)\n",
        "X_test = minmax_scaler.transform(X_test)\n",
        "\n",
        "#y_train = minmax_scaler.fit_transform(y_train.values.reshape(-1,1))\n",
        "#y_test = minmax_scaler.transform(y_test.values.reshape(-1,1))\n"
      ],
      "metadata": {
        "id": "0CTyd2UwEyNM"
      },
      "execution_count": null,
      "outputs": []
    },
    {
      "cell_type": "markdown",
      "source": [
        "##### What data splitting ratio have you used and why? "
      ],
      "metadata": {
        "id": "qjKvONjwE8ra"
      }
    },
    {
      "cell_type": "markdown",
      "source": [
        "I used 80 , 20 for train and test respectively because which is standard practice for splitting , i have enough rows to test thats why i prefer keeping 20% for test instead 25 or 30 ."
      ],
      "metadata": {
        "id": "Y2lJ8cobFDb_"
      }
    },
    {
      "cell_type": "markdown",
      "source": [
        "### 9. Handling Imbalanced Dataset"
      ],
      "metadata": {
        "id": "P1XJ9OREExlT"
      }
    },
    {
      "cell_type": "markdown",
      "source": [
        "##### Do you think the dataset is imbalanced? Explain Why."
      ],
      "metadata": {
        "id": "VFOzZv6IFROw"
      }
    },
    {
      "cell_type": "markdown",
      "source": [
        "Yes, some features are imbalanced but for regression problem there is no need of balancing it"
      ],
      "metadata": {
        "id": "GeKDIv7pFgcC"
      }
    },
    {
      "cell_type": "code",
      "source": [
        "# Handling Imbalanced Dataset (If needed)\n",
        "X.head()"
      ],
      "metadata": {
        "id": "nQsRhhZLFiDs"
      },
      "execution_count": null,
      "outputs": []
    },
    {
      "cell_type": "code",
      "source": [
        "X['Holiday'].value_counts()"
      ],
      "metadata": {
        "id": "EOKo_CvxvpOo"
      },
      "execution_count": null,
      "outputs": []
    },
    {
      "cell_type": "markdown",
      "source": [
        "##### What technique did you use to handle the imbalance dataset and why? (If needed to be balanced)"
      ],
      "metadata": {
        "id": "TIqpNgepFxVj"
      }
    },
    {
      "cell_type": "markdown",
      "source": [
        "Answer Here."
      ],
      "metadata": {
        "id": "qbet1HwdGDTz"
      }
    },
    {
      "cell_type": "markdown",
      "source": [
        "## ***7. ML Model Implementation***"
      ],
      "metadata": {
        "id": "VfCC591jGiD4"
      }
    },
    {
      "cell_type": "markdown",
      "source": [
        "### Functions for Implementing ML Models\n"
      ],
      "metadata": {
        "id": "WQjHU5G5C0Qe"
      }
    },
    {
      "cell_type": "code",
      "source": [
        "def train_and_evaluate(model, X_train, y_train, X_test, y_test):\n",
        "    \"\"\"Trains the input model on the input data and returns the  Scoring Metrics for the prediction.\"\"\"\n",
        "\n",
        "    #Model training and fitting without Hyperparameter tuning\n",
        "    model.fit(X_train, y_train)\n",
        "    y_pred = model.predict(X_test)\n",
        "    actual,predicted = y_test**2,y_pred**2\n",
        "\n",
        "    mae = mean_absolute_error(y_test, y_pred)\n",
        "    mse = mean_squared_error(actual, predicted)\n",
        "    rmse = np.sqrt(mse)\n",
        "    r2 = r2_score(actual , predicted)\n",
        "    print(\"Train R2 :\",r2_score(y_train**2,lr.predict(X_train)**2))\n",
        "    print(\"Test R2 :\" ,r2)\n",
        "    print(\"Adjusted R2 : \", 1-(1-r2)*((len(X_test)-1)/(len(X_test)-X_test.shape[1]-1)))\n",
        "    print(\"MSE :\" , mse)\n",
        "    print(\"RMSE :\" ,rmse)\n",
        "    print(\"MAE :\" ,mean_absolute_error(actual,predicted))\n",
        "\n",
        "\n",
        "\n",
        "def hyperparameter_tuning(X_train, y_train, model, parameters, tuning_model):\n",
        "    \"\"\"Trains the input model on the input data with parameters grid and returns the Scoring Metrics for the prediction.\"\"\"\n",
        "\n",
        "    if tuning_model == 'Halving_Randomized_SearchCV':\n",
        "        grid = HalvingRandomSearchCV(model, param_distributions = parameters, scoring = \"neg_mean_squared_error\", n_jobs=1, factor=3, cv = 5 )\n",
        "    \n",
        "    elif tuning_model == 'RandomizedSearchCV':\n",
        "        grid = RandomizedSearchCV(model, param_distributions = parameters, scoring = 'neg_mean_squared_error', cv = 5, n_iter = 50, n_jobs=1)\n",
        "\n",
        "    else:\n",
        "        grid = GridSearchCV(model, param_grid = parameters, scoring = 'neg_mean_squared_error', n_jobs=1, cv = 3)\n",
        "    \n",
        "    grid.fit(X_train, y_train)\n",
        "    best_model = grid.best_estimator_\n",
        "    best_params = grid.best_params_\n",
        "    y_pred = best_model.predict(X_test)\n",
        "\n",
        "    best_estimator = grid.best_estimator_\n",
        "    r2_score_train = best_estimator.score(X_train, y_train)\n",
        "    r2_score_test = best_estimator.score(X_test, y_test)\n",
        "    mse = mean_squared_error(y_test**2, y_pred**2)\n",
        "    rmse = np.sqrt(mse)\n",
        "    print(\"Train r2: \", r2_score_train)\n",
        "    print(\"Test r2: \", r2_score_test)\n",
        "    print(\"RMSE:\", rmse)\n",
        "\n",
        "\n",
        "    print(\"Best Hyperparameters: \",best_params)\n",
        "    \n",
        "\n",
        "def cross_validation(model,cv=5):\n",
        "  CVS=cross_val_score(model,X,y,scoring='r2',cv=5)\n",
        "  mean_CVS=np.mean(CVS)\n",
        "  print(mean_CVS)\n",
        "\n",
        "\n",
        "  \n",
        "\n"
      ],
      "metadata": {
        "id": "E9p8Aqx7C7ZZ"
      },
      "execution_count": null,
      "outputs": []
    },
    {
      "cell_type": "markdown",
      "source": [
        "### ML Model - 1(Linear Regression)\n"
      ],
      "metadata": {
        "id": "OB4l2ZhMeS1U"
      }
    },
    {
      "cell_type": "code",
      "source": [
        "# ML Model - 1 Implementation\n",
        "\n",
        "lr = LinearRegression()\n",
        "train_and_evaluate(lr, X_train, y_train, X_test, y_test)"
      ],
      "metadata": {
        "id": "NBMkgfSfAmH4"
      },
      "execution_count": null,
      "outputs": []
    },
    {
      "cell_type": "markdown",
      "source": [
        "#### 1. Explain the ML Model used and it's performance using Evaluation metric Score Chart."
      ],
      "metadata": {
        "id": "ArJBuiUVfxKd"
      }
    },
    {
      "cell_type": "code",
      "source": [
        "# Visualizing evaluation Metric Score chart"
      ],
      "metadata": {
        "id": "rqD5ZohzfxKe"
      },
      "execution_count": null,
      "outputs": []
    },
    {
      "cell_type": "markdown",
      "source": [
        "#### 2. Cross- Validation & Hyperparameter Tuning"
      ],
      "metadata": {
        "id": "4qY1EAkEfxKe"
      }
    },
    {
      "cell_type": "code",
      "source": [
        "# ML Model - 1 Implementation with hyperparameter optimization techniques (i.e., GridSearch CV, RandomSearch CV, Bayesian Optimization etc.\n",
        "cross_validation(lr,cv=5)\n"
      ],
      "metadata": {
        "id": "Dy61ujd6fxKe"
      },
      "execution_count": null,
      "outputs": []
    },
    {
      "cell_type": "markdown",
      "source": [
        "##### Which hyperparameter optimization technique have you used and why?"
      ],
      "metadata": {
        "id": "PiV4Ypx8fxKe"
      }
    },
    {
      "cell_type": "markdown",
      "source": [
        "Answer Here."
      ],
      "metadata": {
        "id": "negyGRa7fxKf"
      }
    },
    {
      "cell_type": "markdown",
      "source": [
        "##### Have you seen any improvement? Note down the improvement with updates Evaluation metric Score Chart."
      ],
      "metadata": {
        "id": "TfvqoZmBfxKf"
      }
    },
    {
      "cell_type": "markdown",
      "source": [
        "Answer Here."
      ],
      "metadata": {
        "id": "OaLui8CcfxKf"
      }
    },
    {
      "cell_type": "markdown",
      "source": [],
      "metadata": {
        "id": "9LaW5bYG-PjP"
      }
    },
    {
      "cell_type": "markdown",
      "source": [
        "###Lasso Regression "
      ],
      "metadata": {
        "id": "5KFHrGrB-TB9"
      }
    },
    {
      "cell_type": "code",
      "source": [
        "lasso = Lasso()\n",
        "param_grid_lasso = {'alpha': [0.01,0.1], \n",
        "              'normalize': [True,False], \n",
        "              'fit_intercept': [False,True], \n",
        "              'positive': [False,True]}\n",
        "\n",
        "hyperparameter_tuning(X_train, y_train, lasso, param_grid_lasso, 'GridSearchCV')"
      ],
      "metadata": {
        "id": "Z3j8QEA9EeQG"
      },
      "execution_count": null,
      "outputs": []
    },
    {
      "cell_type": "markdown",
      "source": [
        "###Ridge Regression "
      ],
      "metadata": {
        "id": "A7d026J9EtOj"
      }
    },
    {
      "cell_type": "code",
      "source": [
        "ridge = Ridge()\n",
        "train_and_evaluate(ridge, X_train, y_train, X_test, y_test)"
      ],
      "metadata": {
        "id": "FsH-_pZSQSL5"
      },
      "execution_count": null,
      "outputs": []
    },
    {
      "cell_type": "code",
      "source": [
        "#Hyperparamter Tuning\n",
        "param_grid_ridge = {'alpha': [0.01, 0.1, 1], \n",
        "              'normalize': [True, False], \n",
        "              'fit_intercept': [True, False], \n",
        "              'positive': [True, False]}\n",
        "\n",
        "hyperparameter_tuning(X_train, y_train, ridge, param_grid_ridge, 'RandomizedSearchCV')"
      ],
      "metadata": {
        "id": "hS-QggUVFU5P"
      },
      "execution_count": null,
      "outputs": []
    },
    {
      "cell_type": "markdown",
      "source": [
        "### ML Model - 2(Decision Tree)"
      ],
      "metadata": {
        "id": "dJ2tPlVmpsJ0"
      }
    },
    {
      "cell_type": "markdown",
      "source": [
        "#### 1. Explain the ML Model used and it's performance using Evaluation metric Score Chart."
      ],
      "metadata": {
        "id": "JWYfwnehpsJ1"
      }
    },
    {
      "cell_type": "code",
      "source": [
        "#Parameters for next tree regressor models\n",
        "\n",
        "n_estimators = [50,100,150]\n",
        "max_depth = [6,8,10,12,14]\n",
        "min_samples_split = [40,50,100,150]\n",
        "min_samples_leaf = [40,50]\n",
        "max_leaf_nodes= [None, 10, 20, 30]\n",
        "min_impurity_decrease= [0.0, 0.05, 0.1]\n",
        "splitter= ['best', 'random']\n",
        "criterion= ['gini', 'entropy']\n",
        "eta = [0.05,0.08,0.1]\n",
        "\n",
        "#Without Tuning\n",
        "dt_regressor = DecisionTreeRegressor()\n",
        "train_and_evaluate(dt_regressor, X_train, y_train, X_test, y_test)\n"
      ],
      "metadata": {
        "id": "PT6SZF9Acm9V"
      },
      "execution_count": null,
      "outputs": []
    },
    {
      "cell_type": "markdown",
      "source": [
        "#### 2. Cross- Validation & Hyperparameter Tuning"
      ],
      "metadata": {
        "id": "-jK_YjpMpsJ2"
      }
    },
    {
      "cell_type": "code",
      "source": [
        "# ML Model - 2 Implementation with hyperparameter optimization techniques (i.e., GridSearch CV, RandomSearch CV, Bayesian Optimization etc.)\n",
        "\n",
        "#Hyperparameter tuning\n",
        "grid = {'max_depth' : max_depth,\n",
        "        'min_samples_split' : min_samples_split,\n",
        "        'min_samples_leaf' : min_samples_leaf,\n",
        "        'max_leaf_nodes': max_leaf_nodes,\n",
        "        'min_impurity_decrease': min_impurity_decrease,\n",
        "        'splitter': splitter\n",
        "        }\n",
        "\n",
        "hyperparameter_tuning(X_train, y_train, dt_regressor, grid, 'Halving_Randomized_SearchCV')"
      ],
      "metadata": {
        "id": "Dn0EOfS6psJ2"
      },
      "execution_count": null,
      "outputs": []
    },
    {
      "cell_type": "markdown",
      "source": [
        "##### Which hyperparameter optimization technique have you used and why?"
      ],
      "metadata": {
        "id": "HAih1iBOpsJ2"
      }
    },
    {
      "cell_type": "markdown",
      "source": [
        "I used HalvingRandomizedSearchCV as it is not exhaustive searching , decisiontree will take much time if used with other CV's with same result(i tried) hence."
      ],
      "metadata": {
        "id": "9kBgjYcdpsJ2"
      }
    },
    {
      "cell_type": "markdown",
      "source": [
        "##### Have you seen any improvement? Note down the improvement with updates Evaluation metric Score Chart."
      ],
      "metadata": {
        "id": "zVGeBEFhpsJ2"
      }
    },
    {
      "cell_type": "markdown",
      "source": [
        "Yes , I have seen improvement after tuning \n",
        "\n",
        "train and test r2s are getting improved "
      ],
      "metadata": {
        "id": "74yRdG6UpsJ3"
      }
    },
    {
      "cell_type": "markdown",
      "source": [
        "#### 3. Explain each evaluation metric's indication towards business and the business impact pf the ML model used."
      ],
      "metadata": {
        "id": "bmKjuQ-FpsJ3"
      }
    },
    {
      "cell_type": "markdown",
      "source": [
        "Train and Test r2 are closer to one another and train r2 is not very high hence it is indicating model is not overfitting and working well although it is performing average "
      ],
      "metadata": {
        "id": "BDKtOrBQpsJ3"
      }
    },
    {
      "cell_type": "markdown",
      "source": [
        "### ML Model - 3(Random Forest)"
      ],
      "metadata": {
        "id": "Fze-IPXLpx6K"
      }
    },
    {
      "cell_type": "code",
      "source": [
        "#Without tuning\n",
        "rf_regressor = RandomForestRegressor()\n",
        "train_and_evaluate(dt_regressor, X_train, y_train, X_test, y_test)\n",
        "\n"
      ],
      "metadata": {
        "id": "QGJG-6BndwQF"
      },
      "execution_count": null,
      "outputs": []
    },
    {
      "cell_type": "markdown",
      "source": [
        "#### 1. Explain the ML Model used and it's performance using Evaluation metric Score Chart."
      ],
      "metadata": {
        "id": "7AN1z2sKpx6M"
      }
    },
    {
      "cell_type": "code",
      "source": [
        "# Visualizing evaluation Metric Score chart"
      ],
      "metadata": {
        "id": "xIY4lxxGpx6M"
      },
      "execution_count": null,
      "outputs": []
    },
    {
      "cell_type": "markdown",
      "source": [
        "#### 2. Cross- Validation & Hyperparameter Tuning"
      ],
      "metadata": {
        "id": "9PIHJqyupx6M"
      }
    },
    {
      "cell_type": "code",
      "source": [
        "# ML Model - 3 Implementation with hyperparameter optimization techniques (i.e., GridSearch CV, RandomSearch CV, Bayesian Optimization etc.)\n",
        "\n",
        "grid_rf = {'max_depth' : max_depth,\n",
        "        'min_samples_split' : min_samples_split,\n",
        "        'min_samples_leaf' : min_samples_leaf,\n",
        "        'n_estimators':n_estimators\n",
        "        }\n",
        "\n",
        "hyperparameter_tuning(X_train, y_train, rf_regressor, grid_rf, 'Halving_Randomized_SearchCV')"
      ],
      "metadata": {
        "id": "eSVXuaSKpx6M"
      },
      "execution_count": null,
      "outputs": []
    },
    {
      "cell_type": "markdown",
      "source": [
        "##### Which hyperparameter optimization technique have you used and why?"
      ],
      "metadata": {
        "id": "_-qAgymDpx6N"
      }
    },
    {
      "cell_type": "markdown",
      "source": [
        "Answer Here."
      ],
      "metadata": {
        "id": "lQMffxkwpx6N"
      }
    },
    {
      "cell_type": "markdown",
      "source": [
        "##### Have you seen any improvement? Note down the improvement with updates Evaluation metric Score Chart."
      ],
      "metadata": {
        "id": "Z-hykwinpx6N"
      }
    },
    {
      "cell_type": "markdown",
      "source": [
        "Answer Here."
      ],
      "metadata": {
        "id": "MzVzZC6opx6N"
      }
    },
    {
      "cell_type": "markdown",
      "source": [
        "### ML Model - 4(XGBoost Regressor)"
      ],
      "metadata": {
        "id": "AMo6i17hw_Ox"
      }
    },
    {
      "cell_type": "code",
      "source": [
        "#Without Hyperparameter Tuning\n",
        "xgb_regressor = XGBRegressor(verbosity=0, random_state=42)\n",
        "train_and_evaluate(xgb_regressor, X_train, y_train, X_test, y_test)"
      ],
      "metadata": {
        "id": "fvw-267BhpYb"
      },
      "execution_count": null,
      "outputs": []
    },
    {
      "cell_type": "code",
      "source": [
        "# Hyperparameter Tuning using Grid\n",
        "grid_xgb = {'n_estimators' : n_estimators,\n",
        "        'max_depth' : max_depth,\n",
        "        'min_samples_split' : min_samples_split,\n",
        "        'min_samples_leaf' : min_samples_leaf,\n",
        "        'eta' : eta}\n",
        "\n",
        "hyperparameter_tuning(X_train, y_train, xgb_regressor, grid_xgb, 'Halving_Randomized_SearchCV')"
      ],
      "metadata": {
        "id": "YX5mA8fJR6Ms"
      },
      "execution_count": null,
      "outputs": []
    },
    {
      "cell_type": "markdown",
      "source": [
        "### ML Model - 4(GradientBoost Regressor)"
      ],
      "metadata": {
        "id": "P9KF4aj9m5N4"
      }
    },
    {
      "cell_type": "code",
      "source": [
        "#Without Hyperparameter tuning\n",
        "gb_regressor = GradientBoostingRegressor(random_state=4)\n",
        "train_and_evaluate(xgb_regressor, X_train, y_train, X_test, y_test)\n"
      ],
      "metadata": {
        "id": "-vzy0jYfmP0b"
      },
      "execution_count": null,
      "outputs": []
    },
    {
      "cell_type": "code",
      "source": [
        "# Hyparameter tuning using grid\n",
        "grid_gbr = {'n_estimators' : n_estimators,\n",
        "        'max_depth' : max_depth,\n",
        "        'min_samples_split' : min_samples_split,\n",
        "        'min_samples_leaf' : min_samples_leaf}\n",
        "\n",
        "hyperparameter_tuning(X_train, y_train, xgb_regressor, grid_gbr, 'Halving_Randomized_SearchCV')"
      ],
      "metadata": {
        "id": "2z6VBJMRSa_w"
      },
      "execution_count": null,
      "outputs": []
    },
    {
      "cell_type": "markdown",
      "source": [
        "### Feature Importance & Actual vs predicted \n",
        "\n",
        "\n",
        "\n"
      ],
      "metadata": {
        "id": "bj-bhCappvFx"
      }
    },
    {
      "cell_type": "code",
      "source": [
        "features = [i for i in df.columns if i not in ['Rented Bike Count']]\n"
      ],
      "metadata": {
        "id": "uyZ8vYudp0ZR"
      },
      "execution_count": null,
      "outputs": []
    },
    {
      "cell_type": "code",
      "source": [
        "def analyse_model(model, X_train, X_test, y_train, y_test):\n",
        "\n",
        "  '''For Non linear Regressor model plots the both graph &\n",
        "     for linear model plots only actual v/s predicted plot'''\n",
        "\n",
        "  # Fitting the model\n",
        "  model.fit(X_train,y_train)\n",
        "  y_pred = model.predict(X_test)\n",
        "  try:\n",
        "    importance = model.feature_importances_\n",
        "    feature = features\n",
        "  except:\n",
        "    importance = np.abs(model.coef_)\n",
        "    feature = independent_variables\n",
        "  indices = np.argsort(importance)\n",
        "  indices = indices[::-1]\n",
        "\n",
        "  # Plotting actual and predicted values and the feature importances:\n",
        "  plt.figure(figsize=(18,6))\n",
        "  plt.subplot(2,1,1)\n",
        "  plt.plot((y_pred)[:100])\n",
        "  plt.plot((np.array(y_test)[:100]))\n",
        "  plt.legend([\"Predicted\",\"Actual\"])\n",
        "  plt.title('Actual and Predicted Bike Counts')\n",
        "  plt.subplot(2,1,2)\n",
        "  plt.bar(range(len(indices)),importance[indices])\n",
        "  plt.xticks(range(len(indices)), [feature[i] for i in indices])\n",
        "  plt.title('Feature Importance')\n",
        "  plt.tight_layout()\n",
        "  plt.show()\n",
        "\n",
        "  return model"
      ],
      "metadata": {
        "id": "wT59PspurgLE"
      },
      "execution_count": null,
      "outputs": []
    },
    {
      "cell_type": "code",
      "source": [
        "analyse_model(dt_regressor, X_train, X_test, y_train, y_test)\n"
      ],
      "metadata": {
        "id": "YQO_Fo5f9OSs"
      },
      "execution_count": null,
      "outputs": []
    },
    {
      "cell_type": "code",
      "source": [
        "analyse_model(rf_regressor, X_train, X_test, y_train, y_test)\n"
      ],
      "metadata": {
        "id": "KyBx5sKcF9mx"
      },
      "execution_count": null,
      "outputs": []
    },
    {
      "cell_type": "code",
      "source": [
        "analyse_model(xgb_regressor, X_train, X_test, y_train, y_test)\n"
      ],
      "metadata": {
        "id": "8M_JYEO1GAja"
      },
      "execution_count": null,
      "outputs": []
    },
    {
      "cell_type": "code",
      "source": [
        "analyse_model(gb_regressor, X_train, X_test, y_train, y_test)\n"
      ],
      "metadata": {
        "id": "hYdZ4hEQHolB"
      },
      "execution_count": null,
      "outputs": []
    },
    {
      "cell_type": "markdown",
      "source": [
        "### Model Explainability(Lime & SHAP)"
      ],
      "metadata": {
        "id": "Z_g3RR7uvcK6"
      }
    },
    {
      "cell_type": "code",
      "source": [
        "#Lime Section\n",
        "!pip install lime\n",
        "!pip install numpy==1.19.4\n",
        "!pip install --upgrade lime\n"
      ],
      "metadata": {
        "id": "4chhN8MV2djs"
      },
      "execution_count": null,
      "outputs": []
    },
    {
      "cell_type": "code",
      "source": [
        "X_train1=pd.DataFrame(X_train,columns=['Temperature(°C)', 'Wind speed (m/s)', 'Visibility (10m)',\n",
        "       'Solar Radiation (MJ/m2)', 'Rainfall(mm)', 'Snowfall (cm)', 'Holiday',\n",
        "       'Functioning Day', 'month', 'weekdays_weekend', 'timeshift', 'Autumn',\n",
        "       'Spring'])\n",
        "X_test1=pd.DataFrame(X_test,columns=['Temperature(°C)', 'Wind speed (m/s)', 'Visibility (10m)',\n",
        "       'Solar Radiation (MJ/m2)', 'Rainfall(mm)', 'Snowfall (cm)', 'Holiday',\n",
        "       'Functioning Day', 'month', 'weekdays_weekend', 'timeshift', 'Autumn',\n",
        "       'Spring'])"
      ],
      "metadata": {
        "id": "B-Vv8G_eXJYV"
      },
      "execution_count": null,
      "outputs": []
    },
    {
      "cell_type": "code",
      "source": [
        "#Lime and SHAP\n",
        "# LIME SECTION\n",
        "\n",
        "import lime\n",
        "import lime.lime_tabular\n",
        "\n",
        "explainer = lime.lime_tabular.LimeTabularExplainer(X.values,\n",
        "                                                   feature_names=X.columns,\n",
        "                                                   class_names=['target'],\n",
        "                                                   verbose=True,\n",
        "                                                   mode='regression')\n",
        "\n",
        "\n",
        "\n"
      ],
      "metadata": {
        "id": "qZLtTzzXvgpJ"
      },
      "execution_count": null,
      "outputs": []
    },
    {
      "cell_type": "code",
      "source": [
        "pred = xgb_regressor.predict(X.iloc[0].values.reshape(1, -1))[0]"
      ],
      "metadata": {
        "id": "q84BoI6laL4W"
      },
      "execution_count": null,
      "outputs": []
    },
    {
      "cell_type": "code",
      "source": [
        "exp = explainer.explain_instance(X.iloc[0].values, xgb_regressor.predict, num_features=len(X.columns))\n"
      ],
      "metadata": {
        "id": "YGTtEINwXmyq"
      },
      "execution_count": null,
      "outputs": []
    },
    {
      "cell_type": "code",
      "source": [
        "# Print the LIME explanation\n",
        "print(exp.as_list())\n",
        "\n",
        "# Visualize the LIME explanation\n",
        "exp.show_in_notebook(show_table=True)"
      ],
      "metadata": {
        "id": "IyY3wCcGaz9y"
      },
      "execution_count": null,
      "outputs": []
    },
    {
      "cell_type": "code",
      "source": [
        "#SHAP Section\n",
        "\n",
        "!pip install shap\n"
      ],
      "metadata": {
        "id": "xVd7ORMi27-l"
      },
      "execution_count": null,
      "outputs": []
    },
    {
      "cell_type": "code",
      "source": [
        "import shap \n",
        "sns.set_style('darkgrid')"
      ],
      "metadata": {
        "id": "4-f5jDGl3OzB"
      },
      "execution_count": null,
      "outputs": []
    },
    {
      "cell_type": "code",
      "source": [
        "for_instance=2"
      ],
      "metadata": {
        "id": "TB2Grni_4Fso"
      },
      "execution_count": null,
      "outputs": []
    },
    {
      "cell_type": "code",
      "source": [
        "# Initialize JavaScript visualizations in notebook environment\n",
        "shap.initjs()\n",
        "# Define a tree explainer for the built model\n",
        "explainer = shap.TreeExplainer(xgb_regressor)\n",
        "# obtain shap values for the first row of the test data\n",
        "shap_values = explainer(X_test,check_additivity=False)\n",
        "# # visualize the first prediction's explanation with a force plot\n",
        "shap.plots.force(shap_values[int(for_instance)])"
      ],
      "metadata": {
        "id": "J37PeEgD4GuX"
      },
      "execution_count": null,
      "outputs": []
    },
    {
      "cell_type": "markdown",
      "source": [
        "### 1. Which Evaluation metrics did you consider for a positive business impact and why?"
      ],
      "metadata": {
        "id": "h_CCil-SKHpo"
      }
    },
    {
      "cell_type": "markdown",
      "source": [
        "I am considering **RMSE** which is usually considered as evaluation metric and also with that **train r2** and **test r2**.\n",
        "\n",
        "**RMSE**, it not only calculates how close the prediction is to the actual value on average, but it also indicates the effect of large errors"
      ],
      "metadata": {
        "id": "jHVz9hHDKFms"
      }
    },
    {
      "cell_type": "markdown",
      "source": [
        "### 2. Which ML model did you choose from the above created models as your final prediction model and why?"
      ],
      "metadata": {
        "id": "cBFFvTBNJzUa"
      }
    },
    {
      "cell_type": "markdown",
      "source": [
        "I Choosed **XGBoost** as my final model because it is giving high train and test r2 among all models"
      ],
      "metadata": {
        "id": "6ksF5Q1LKTVm"
      }
    },
    {
      "cell_type": "markdown",
      "source": [
        "### 3. Explain the model which you have used and the feature importance using any model explainability tool?"
      ],
      "metadata": {
        "id": "HvGl1hHyA_VK"
      }
    },
    {
      "cell_type": "markdown",
      "source": [
        "Model Explainability is already explained with feature importance iin Lime & SHAP section"
      ],
      "metadata": {
        "id": "YnvVTiIxBL-C"
      }
    },
    {
      "cell_type": "markdown",
      "source": [
        "## ***8.*** ***Future Work (Optional)***"
      ],
      "metadata": {
        "id": "EyNgTHvd2WFk"
      }
    },
    {
      "cell_type": "markdown",
      "source": [
        "### 1. Save the best performing ml model in a pickle file or joblib file format for deployment process.\n"
      ],
      "metadata": {
        "id": "KH5McJBi2d8v"
      }
    },
    {
      "cell_type": "code",
      "source": [
        "# Save the File"
      ],
      "metadata": {
        "id": "bQIANRl32f4J"
      },
      "execution_count": null,
      "outputs": []
    },
    {
      "cell_type": "markdown",
      "source": [
        "### 2. Again Load the saved model file and try to predict unseen data for a sanity check.\n"
      ],
      "metadata": {
        "id": "iW_Lq9qf2h6X"
      }
    },
    {
      "cell_type": "code",
      "source": [
        "# Load the File and predict unseen data."
      ],
      "metadata": {
        "id": "oEXk9ydD2nVC"
      },
      "execution_count": null,
      "outputs": []
    },
    {
      "cell_type": "markdown",
      "source": [
        "### ***Congrats! Your model is successfully created and ready for deployment on a live server for a real user interaction !!!***"
      ],
      "metadata": {
        "id": "-Kee-DAl2viO"
      }
    },
    {
      "cell_type": "markdown",
      "source": [
        "# **Conclusion**"
      ],
      "metadata": {
        "id": "gCX9965dhzqZ"
      }
    },
    {
      "cell_type": "markdown",
      "source": [
        "1) **Summer** season has the count of **highest** number of rented bikes while **winter**    has very **low** , so we can say **temperature during the day** is affecting the most to sales.\n",
        "\n",
        "2) Out of total, **96.5%** of bikes got rented on Non Holiday days.\n",
        "\n",
        "3) During day and evening people are preferring the bikes most .\n",
        "\n",
        "4) between **7 to 9 am & 5 to 9** pm has most of the bikes rented.\n",
        "\n",
        "5) **Snowfall** , **Rainfall** and **Humidity** are having **Negative** Relationship with Count \n",
        "  of rented bikes while **temperature** is showing **positive** relationship.\n",
        "\n",
        "6) months of January,February and december showing low numbers of rented bikes.\n",
        "\n",
        "7) We will consider **XGBoost** as final because it is considering whether it is working day or not and also good metrics."
      ],
      "metadata": {
        "id": "Fjb1IsQkh3yE"
      }
    },
    {
      "cell_type": "markdown",
      "source": [
        "### ***Hurrah! You have successfully completed your Machine Learning Capstone Project !!!***"
      ],
      "metadata": {
        "id": "gIfDvo9L0UH2"
      }
    }
  ]
}